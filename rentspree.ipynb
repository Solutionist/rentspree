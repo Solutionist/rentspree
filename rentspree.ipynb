{
 "cells": [
  {
   "cell_type": "markdown",
   "metadata": {},
   "source": [
    "# RentSpree Test"
   ]
  },
  {
   "cell_type": "code",
   "execution_count": 225,
   "metadata": {},
   "outputs": [],
   "source": [
    "# Library\n",
    "import pandas as pd\n",
    "import numpy as np\n",
    "import calendar\n",
    "import copy\n",
    "import datetime\n",
    "\n",
    "import seaborn as sns\n",
    "import matplotlib.pyplot as plt\n",
    "\n",
    "from tqdm import tqdm"
   ]
  },
  {
   "cell_type": "markdown",
   "metadata": {},
   "source": [
    "### Setting"
   ]
  },
  {
   "cell_type": "code",
   "execution_count": 226,
   "metadata": {},
   "outputs": [],
   "source": [
    "years = [2020, 2021]\n",
    "months = list(calendar.month_name[1:])\n",
    "churn = {'A': 360, 'B': 360, 'C': 120, 'D': 260}\n",
    "max_date_range = '2021-04-30'\n",
    "target_date_range = ['2020-04-1', max_date_range]"
   ]
  },
  {
   "cell_type": "markdown",
   "metadata": {},
   "source": [
    "### Data Exploration"
   ]
  },
  {
   "cell_type": "code",
   "execution_count": 227,
   "metadata": {},
   "outputs": [
    {
     "name": "stdout",
     "output_type": "stream",
     "text": [
      "(1210998, 3)\n"
     ]
    },
    {
     "data": {
      "text/html": [
       "<div>\n",
       "<style scoped>\n",
       "    .dataframe tbody tr th:only-of-type {\n",
       "        vertical-align: middle;\n",
       "    }\n",
       "\n",
       "    .dataframe tbody tr th {\n",
       "        vertical-align: top;\n",
       "    }\n",
       "\n",
       "    .dataframe thead th {\n",
       "        text-align: right;\n",
       "    }\n",
       "</style>\n",
       "<table border=\"1\" class=\"dataframe\">\n",
       "  <thead>\n",
       "    <tr style=\"text-align: right;\">\n",
       "      <th></th>\n",
       "      <th>_id</th>\n",
       "      <th>event_date</th>\n",
       "      <th>usertype</th>\n",
       "    </tr>\n",
       "  </thead>\n",
       "  <tbody>\n",
       "    <tr>\n",
       "      <th>0</th>\n",
       "      <td>By1+rEy20nW/sgRehb+RSZe9VI8=</td>\n",
       "      <td>2021-02-10</td>\n",
       "      <td>A</td>\n",
       "    </tr>\n",
       "    <tr>\n",
       "      <th>1</th>\n",
       "      <td>x7lxSW+y6Kymzxf1yrriMXDNZWQ=</td>\n",
       "      <td>2021-02-10</td>\n",
       "      <td>A</td>\n",
       "    </tr>\n",
       "    <tr>\n",
       "      <th>2</th>\n",
       "      <td>BQ7feJAnc6ntg4PaOXShHLrd3xQ=</td>\n",
       "      <td>2021-02-24</td>\n",
       "      <td>A</td>\n",
       "    </tr>\n",
       "    <tr>\n",
       "      <th>3</th>\n",
       "      <td>xmc9CsW3Q7K9HK5+pczuRvKUCBk=</td>\n",
       "      <td>2020-12-08</td>\n",
       "      <td>A</td>\n",
       "    </tr>\n",
       "    <tr>\n",
       "      <th>4</th>\n",
       "      <td>Dt0y6YCKnC/mD9Sm1SkNkwsrgzY=</td>\n",
       "      <td>2020-06-17</td>\n",
       "      <td>A</td>\n",
       "    </tr>\n",
       "  </tbody>\n",
       "</table>\n",
       "</div>"
      ],
      "text/plain": [
       "                            _id  event_date usertype\n",
       "0  By1+rEy20nW/sgRehb+RSZe9VI8=  2021-02-10        A\n",
       "1  x7lxSW+y6Kymzxf1yrriMXDNZWQ=  2021-02-10        A\n",
       "2  BQ7feJAnc6ntg4PaOXShHLrd3xQ=  2021-02-24        A\n",
       "3  xmc9CsW3Q7K9HK5+pczuRvKUCBk=  2020-12-08        A\n",
       "4  Dt0y6YCKnC/mD9Sm1SkNkwsrgzY=  2020-06-17        A"
      ]
     },
     "execution_count": 227,
     "metadata": {},
     "output_type": "execute_result"
    }
   ],
   "source": [
    "df = pd.read_csv('daily_transactions.csv', sep=',')\n",
    "print(df.shape)\n",
    "df.head(5)"
   ]
  },
  {
   "cell_type": "code",
   "execution_count": 228,
   "metadata": {},
   "outputs": [],
   "source": [
    "# Convert column from obj to datetime\n",
    "df['event_date'] = pd.to_datetime(df['event_date'])\n",
    "\n",
    "# Sort dataframe\n",
    "df = df[df['event_date'] <= max_date_range]\n",
    "df = df.sort_values(by=['_id', 'event_date'])"
   ]
  },
  {
   "cell_type": "markdown",
   "metadata": {},
   "source": [
    "### Check usertype\n",
    "If the same user contain more than 1 types of class (A, B, C, D) then \n",
    "that users will not be including in the final result. The code\n",
    "below check all uniques users if they contain more than 1 types of \n",
    "user class."
   ]
  },
  {
   "cell_type": "code",
   "execution_count": 229,
   "metadata": {},
   "outputs": [
    {
     "name": "stderr",
     "output_type": "stream",
     "text": [
      "100%|██████████| 432458/432458 [00:49<00:00, 8815.51it/s]\n"
     ]
    }
   ],
   "source": [
    "common_ids = list(df['_id'].unique())\n",
    "groups = df.groupby(['_id'])\n",
    "\n",
    "# Check type\n",
    "def is_unique(data):\n",
    "    check = data.to_numpy()\n",
    "    return (check[0] == check).all()\n",
    "\n",
    "for ids in tqdm(common_ids):\n",
    "    group = groups.get_group(ids)\n",
    "\n",
    "    if len(group) > 1:\n",
    "        result = is_unique(group['usertype'])\n",
    "        if result == False:\n",
    "            df.drop(group.index)"
   ]
  },
  {
   "cell_type": "markdown",
   "metadata": {},
   "source": [
    "### Creating dictionary\n",
    "The dictionary below are created to store the result of each type \n",
    "of user which are dropoff, returned or new users. The dictionary\n",
    "created below will store the result from Jan 2020 to Dec 2021."
   ]
  },
  {
   "cell_type": "code",
   "execution_count": 230,
   "metadata": {},
   "outputs": [],
   "source": [
    "# Store result\n",
    "newUser = {}\n",
    "\n",
    "# Create dict to store new user\n",
    "for y in years:\n",
    "    for m in months:\n",
    "        newUser[\"{}-{}\".format(m, y)] = 0\n",
    "\n",
    "# Copy\n",
    "dropOff = copy.deepcopy(newUser)\n",
    "returnUser = copy.deepcopy(newUser)"
   ]
  },
  {
   "cell_type": "markdown",
   "metadata": {},
   "source": [
    "### Flowchart\n",
    "![Flowchart](flowchart.png \"Flowchart\")"
   ]
  },
  {
   "cell_type": "markdown",
   "metadata": {},
   "source": [
    "### Getting first transaction records\n",
    "The total numbers of new users can be easily found by removing the duplicates of each ids\n",
    "and keeping only the first row of each ids. Since we already sort the dataset before\n",
    "removing the duplicates only the first ever transaction of each user is kept. Since this\n",
    "is the first ever transaction we can automatically marked them as new users."
   ]
  },
  {
   "cell_type": "code",
   "execution_count": 231,
   "metadata": {},
   "outputs": [
    {
     "name": "stderr",
     "output_type": "stream",
     "text": [
      "<ipython-input-231-cdc14ba775a7>:6: SettingWithCopyWarning: \n",
      "A value is trying to be set on a copy of a slice from a DataFrame.\n",
      "Try using .loc[row_indexer,col_indexer] = value instead\n",
      "\n",
      "See the caveats in the documentation: https://pandas.pydata.org/pandas-docs/stable/user_guide/indexing.html#returning-a-view-versus-a-copy\n",
      "  df_ft['first_tran'] = True\n"
     ]
    }
   ],
   "source": [
    "# Convert column from obj to datetime\n",
    "df['event_date'] = pd.to_datetime(df['event_date'])\n",
    "\n",
    "# Sort dataframe and drop duplicate\n",
    "df_ft = df.drop_duplicates(subset=['_id'], keep='first')\n",
    "df_ft['first_tran'] = True"
   ]
  },
  {
   "cell_type": "markdown",
   "metadata": {},
   "source": [
    "### Getting last transaction records\n",
    "This is the same as above since we can also keep the last ever transaction the users had ever done. \n",
    "We can added the churn periods of each type users and then count up when they would then be considered \n",
    "user that drop off the platform."
   ]
  },
  {
   "cell_type": "code",
   "execution_count": 232,
   "metadata": {},
   "outputs": [
    {
     "name": "stderr",
     "output_type": "stream",
     "text": [
      "<ipython-input-232-c76e2289e25e>:3: SettingWithCopyWarning: \n",
      "A value is trying to be set on a copy of a slice from a DataFrame.\n",
      "Try using .loc[row_indexer,col_indexer] = value instead\n",
      "\n",
      "See the caveats in the documentation: https://pandas.pydata.org/pandas-docs/stable/user_guide/indexing.html#returning-a-view-versus-a-copy\n",
      "  df_lt['last_tran'] = True\n"
     ]
    }
   ],
   "source": [
    "# Sort dataframe and drop duplicate\n",
    "df_lt = df.drop_duplicates(subset=['_id'], keep='last')\n",
    "df_lt['last_tran'] = True"
   ]
  },
  {
   "cell_type": "markdown",
   "metadata": {},
   "source": [
    "### Merging last transaction, first transaction, and transaction between April 2020 and April 2021 \n",
    "Create a new dataframe that also contain labeling of each transaction \n",
    "whether it is the first transaction, last transaction or none of those.\n",
    "This will contain all that transaction since the start of the given data set\n",
    "till the max date that we had set at the start of the notebook."
   ]
  },
  {
   "cell_type": "code",
   "execution_count": 233,
   "metadata": {},
   "outputs": [
    {
     "data": {
      "text/html": [
       "<div>\n",
       "<style scoped>\n",
       "    .dataframe tbody tr th:only-of-type {\n",
       "        vertical-align: middle;\n",
       "    }\n",
       "\n",
       "    .dataframe tbody tr th {\n",
       "        vertical-align: top;\n",
       "    }\n",
       "\n",
       "    .dataframe thead th {\n",
       "        text-align: right;\n",
       "    }\n",
       "</style>\n",
       "<table border=\"1\" class=\"dataframe\">\n",
       "  <thead>\n",
       "    <tr style=\"text-align: right;\">\n",
       "      <th></th>\n",
       "      <th>_id</th>\n",
       "      <th>event_date</th>\n",
       "      <th>usertype</th>\n",
       "      <th>first_tran</th>\n",
       "      <th>last_tran</th>\n",
       "    </tr>\n",
       "  </thead>\n",
       "  <tbody>\n",
       "    <tr>\n",
       "      <th>0</th>\n",
       "      <td>+++c9qOy57iOb49A2boGEzgcZnQ=</td>\n",
       "      <td>2019-09-26</td>\n",
       "      <td>B</td>\n",
       "      <td>True</td>\n",
       "      <td>True</td>\n",
       "    </tr>\n",
       "    <tr>\n",
       "      <th>1</th>\n",
       "      <td>++/tXvidoWmlgAvm7ttoHel6P9g=</td>\n",
       "      <td>2020-11-13</td>\n",
       "      <td>B</td>\n",
       "      <td>True</td>\n",
       "      <td>False</td>\n",
       "    </tr>\n",
       "    <tr>\n",
       "      <th>432458</th>\n",
       "      <td>++/tXvidoWmlgAvm7ttoHel6P9g=</td>\n",
       "      <td>2020-11-15</td>\n",
       "      <td>B</td>\n",
       "      <td>False</td>\n",
       "      <td>True</td>\n",
       "    </tr>\n",
       "    <tr>\n",
       "      <th>2</th>\n",
       "      <td>++1LTNRNKHmvjiiewd0bQIopcv8=</td>\n",
       "      <td>2021-02-04</td>\n",
       "      <td>B</td>\n",
       "      <td>True</td>\n",
       "      <td>True</td>\n",
       "    </tr>\n",
       "    <tr>\n",
       "      <th>3</th>\n",
       "      <td>++1X4K5vxylxhYcZ1FO0qphw3xU=</td>\n",
       "      <td>2020-08-28</td>\n",
       "      <td>B</td>\n",
       "      <td>True</td>\n",
       "      <td>True</td>\n",
       "    </tr>\n",
       "    <tr>\n",
       "      <th>...</th>\n",
       "      <td>...</td>\n",
       "      <td>...</td>\n",
       "      <td>...</td>\n",
       "      <td>...</td>\n",
       "      <td>...</td>\n",
       "    </tr>\n",
       "    <tr>\n",
       "      <th>1200813</th>\n",
       "      <td>zzyMFNFuAwqAN1FMkTmCD7gs1fU=</td>\n",
       "      <td>2021-03-02</td>\n",
       "      <td>A</td>\n",
       "      <td>False</td>\n",
       "      <td>False</td>\n",
       "    </tr>\n",
       "    <tr>\n",
       "      <th>1200814</th>\n",
       "      <td>zzyMFNFuAwqAN1FMkTmCD7gs1fU=</td>\n",
       "      <td>2021-03-03</td>\n",
       "      <td>A</td>\n",
       "      <td>False</td>\n",
       "      <td>False</td>\n",
       "    </tr>\n",
       "    <tr>\n",
       "      <th>650194</th>\n",
       "      <td>zzyMFNFuAwqAN1FMkTmCD7gs1fU=</td>\n",
       "      <td>2021-03-04</td>\n",
       "      <td>A</td>\n",
       "      <td>False</td>\n",
       "      <td>True</td>\n",
       "    </tr>\n",
       "    <tr>\n",
       "      <th>432457</th>\n",
       "      <td>zzyXHL5fVo9mOOqRIPEWIFjiuDc=</td>\n",
       "      <td>2021-02-03</td>\n",
       "      <td>B</td>\n",
       "      <td>True</td>\n",
       "      <td>False</td>\n",
       "    </tr>\n",
       "    <tr>\n",
       "      <th>650195</th>\n",
       "      <td>zzyXHL5fVo9mOOqRIPEWIFjiuDc=</td>\n",
       "      <td>2021-02-04</td>\n",
       "      <td>B</td>\n",
       "      <td>False</td>\n",
       "      <td>True</td>\n",
       "    </tr>\n",
       "  </tbody>\n",
       "</table>\n",
       "<p>1200815 rows × 5 columns</p>\n",
       "</div>"
      ],
      "text/plain": [
       "                                  _id event_date usertype  first_tran  \\\n",
       "0        +++c9qOy57iOb49A2boGEzgcZnQ= 2019-09-26        B        True   \n",
       "1        ++/tXvidoWmlgAvm7ttoHel6P9g= 2020-11-13        B        True   \n",
       "432458   ++/tXvidoWmlgAvm7ttoHel6P9g= 2020-11-15        B       False   \n",
       "2        ++1LTNRNKHmvjiiewd0bQIopcv8= 2021-02-04        B        True   \n",
       "3        ++1X4K5vxylxhYcZ1FO0qphw3xU= 2020-08-28        B        True   \n",
       "...                               ...        ...      ...         ...   \n",
       "1200813  zzyMFNFuAwqAN1FMkTmCD7gs1fU= 2021-03-02        A       False   \n",
       "1200814  zzyMFNFuAwqAN1FMkTmCD7gs1fU= 2021-03-03        A       False   \n",
       "650194   zzyMFNFuAwqAN1FMkTmCD7gs1fU= 2021-03-04        A       False   \n",
       "432457   zzyXHL5fVo9mOOqRIPEWIFjiuDc= 2021-02-03        B        True   \n",
       "650195   zzyXHL5fVo9mOOqRIPEWIFjiuDc= 2021-02-04        B       False   \n",
       "\n",
       "         last_tran  \n",
       "0             True  \n",
       "1            False  \n",
       "432458        True  \n",
       "2             True  \n",
       "3             True  \n",
       "...            ...  \n",
       "1200813      False  \n",
       "1200814      False  \n",
       "650194        True  \n",
       "432457       False  \n",
       "650195        True  \n",
       "\n",
       "[1200815 rows x 5 columns]"
      ]
     },
     "execution_count": 233,
     "metadata": {},
     "output_type": "execute_result"
    }
   ],
   "source": [
    "# Filter\n",
    "df = df[df['event_date'] <= max_date_range]\n",
    "\n",
    "# Merge & sort\n",
    "df_merge = pd.merge(df_ft, df_lt, how=\"outer\", on=['_id', 'event_date', 'usertype'])\n",
    "df_merge = pd.merge(df_merge, df, how=\"outer\", on=['_id', 'event_date', 'usertype'])\n",
    "df_merge = df_merge.replace(np.nan, False)\n",
    "df_merge = df_merge.sort_values(by=['_id', 'event_date'])\n",
    "df_merge"
   ]
  },
  {
   "cell_type": "markdown",
   "metadata": {},
   "source": [
    "### Calculate results\n",
    "We can find the remained users by calculating the first transaction added the churn periods.\n",
    "If the next transaction made by the same ids occurred before the added churn date then they\n",
    "won't be counted as return user. However, if they return after the churn period then they are counted\n",
    "as one. We also need to count drop off users in the process as they could come and leave. Once\n",
    "they have been marked as returned we will calculate the new churn date and repeat the process."
   ]
  },
  {
   "cell_type": "code",
   "execution_count": 234,
   "metadata": {},
   "outputs": [
    {
     "name": "stderr",
     "output_type": "stream",
     "text": [
      "100%|██████████| 432458/432458 [01:31<00:00, 4715.73it/s]\n"
     ]
    },
    {
     "data": {
      "text/plain": [
       "{'January-2020': 27,\n",
       " 'February-2020': 93,\n",
       " 'March-2020': 98,\n",
       " 'April-2020': 99,\n",
       " 'May-2020': 638,\n",
       " 'June-2020': 870,\n",
       " 'July-2020': 928,\n",
       " 'August-2020': 880,\n",
       " 'September-2020': 749,\n",
       " 'October-2020': 813,\n",
       " 'November-2020': 687,\n",
       " 'December-2020': 796,\n",
       " 'January-2021': 1033,\n",
       " 'February-2021': 994,\n",
       " 'March-2021': 1214,\n",
       " 'April-2021': 1535,\n",
       " 'May-2021': 0,\n",
       " 'June-2021': 0,\n",
       " 'July-2021': 0,\n",
       " 'August-2021': 0,\n",
       " 'September-2021': 0,\n",
       " 'October-2021': 0,\n",
       " 'November-2021': 0,\n",
       " 'December-2021': 0}"
      ]
     },
     "execution_count": 234,
     "metadata": {},
     "output_type": "execute_result"
    }
   ],
   "source": [
    "all_ids = df_merge['_id'].unique()\n",
    "groups = df_merge.groupby(['_id'])\n",
    "\n",
    "# Check type\n",
    "def calculate_result(data):\n",
    "    numpy_data = data.to_numpy()\n",
    "    churn_period = numpy_data[0][1] + datetime.timedelta(days=churn[numpy_data[0][2]])\n",
    "    \n",
    "    if numpy_data[0][1].year in years:\n",
    "        newUser[\"{}-{}\".format(calendar.month_name[numpy_data[0][1].month], numpy_data[0][1].year)] += 1\n",
    "\n",
    "    if len(numpy_data) == 1:\n",
    "        if churn_period.year in years:\n",
    "            dropOff[\"{}-{}\".format(calendar.month_name[churn_period.month], churn_period.year)] += 1\n",
    "        \n",
    "        return\n",
    "    \n",
    "    for row in numpy_data:\n",
    "        if row[1] > churn_period:\n",
    "            if (row[1].year in years) and (churn_period.year in years):\n",
    "                dropOff[\"{}-{}\".format(calendar.month_name[churn_period.month], churn_period.year)] += 1\n",
    "                returnUser[\"{}-{}\".format(calendar.month_name[row[1].month], row[1].year)] += 1\n",
    "                churn_period = row[1] + datetime.timedelta(days=churn[row[2]])\n",
    "\n",
    "                if row[4] == True:\n",
    "                    if churn_period.year in years:\n",
    "                        dropOff[\"{}-{}\".format(calendar.month_name[churn_period.month], churn_period.year)] += 1\n",
    "    \n",
    "for ids in tqdm(all_ids):\n",
    "    group = groups.get_group(ids)\n",
    "    \n",
    "    \"\"\" The function below can use multiprocessing to speed up processing.\n",
    "    Due to limitation of jupyter notebook doing so is not optimum for this \n",
    "    assignment\"\"\"\n",
    "    \n",
    "    calculate_result(group)\n",
    "\n",
    "returnUser"
   ]
  },
  {
   "cell_type": "markdown",
   "metadata": {},
   "source": [
    "### Filtering results\n",
    "Generate the months between the target date and filter out the result of each\n",
    "user count for the target date."
   ]
  },
  {
   "cell_type": "code",
   "execution_count": 235,
   "metadata": {},
   "outputs": [],
   "source": [
    "filter_range_start = datetime.datetime.strptime(target_date_range[0], '%Y-%m-%d')\n",
    "filter_range_end = datetime.datetime.strptime(target_date_range[1], '%Y-%m-%d')\n",
    "target_year = [filter_range_start.year, filter_range_end.year]\n",
    "target_month = [filter_range_start.month, filter_range_end.month]\n",
    "\n",
    "def get_month_list(year, month):\n",
    "    target_month_list = []\n",
    "    month_list = []\n",
    "\n",
    "    # Store the first result\n",
    "    target_month_list.append('{}-{}'.format(calendar.month_name[month[0]], year[0]))\n",
    "    month_list.append('{} {}'.format(calendar.month_name[month[0]], year[0]))\n",
    "    \n",
    "    while (year[0], month[0]) <= (year[1], month[1] - 1):\n",
    "        if month[0] == 12:\n",
    "            month[0] = 1\n",
    "            year[0] += 1\n",
    "        else:\n",
    "            month[0] += 1\n",
    "\n",
    "        target_month_list.append('{}-{}'.format(calendar.month_name[month[0]], year[0]))\n",
    "        month_list.append('{} {}'.format(calendar.month_name[month[0]], year[0]))\n",
    "    \n",
    "    return target_month_list, month_list\n",
    "\n",
    "# Filter to the only desired target\n",
    "def filter_result(data_range, result):\n",
    "    store_keys = []\n",
    "    for key in result:\n",
    "        store_keys.append(key)\n",
    "\n",
    "    for key in store_keys:\n",
    "        if key not in data_range:\n",
    "            del result[key]\n",
    "\n",
    "# Filter result to intended month\n",
    "filter_range, month_list = get_month_list(target_year, target_month)\n",
    "\n",
    "filter_result(filter_range, returnUser)\n",
    "filter_result(filter_range, dropOff)\n",
    "filter_result(filter_range, newUser)"
   ]
  },
  {
   "cell_type": "code",
   "execution_count": 236,
   "metadata": {},
   "outputs": [
    {
     "data": {
      "text/html": [
       "<div>\n",
       "<style scoped>\n",
       "    .dataframe tbody tr th:only-of-type {\n",
       "        vertical-align: middle;\n",
       "    }\n",
       "\n",
       "    .dataframe tbody tr th {\n",
       "        vertical-align: top;\n",
       "    }\n",
       "\n",
       "    .dataframe thead th {\n",
       "        text-align: right;\n",
       "    }\n",
       "</style>\n",
       "<table border=\"1\" class=\"dataframe\">\n",
       "  <thead>\n",
       "    <tr style=\"text-align: right;\">\n",
       "      <th></th>\n",
       "      <th>month</th>\n",
       "      <th>dropoff_users</th>\n",
       "      <th>returning_user</th>\n",
       "      <th>new_users</th>\n",
       "    </tr>\n",
       "  </thead>\n",
       "  <tbody>\n",
       "    <tr>\n",
       "      <th>April-2020</th>\n",
       "      <td>April 2020</td>\n",
       "      <td>610</td>\n",
       "      <td>99</td>\n",
       "      <td>15117</td>\n",
       "    </tr>\n",
       "    <tr>\n",
       "      <th>May-2020</th>\n",
       "      <td>May 2020</td>\n",
       "      <td>7146</td>\n",
       "      <td>638</td>\n",
       "      <td>20295</td>\n",
       "    </tr>\n",
       "    <tr>\n",
       "      <th>June-2020</th>\n",
       "      <td>June 2020</td>\n",
       "      <td>8144</td>\n",
       "      <td>870</td>\n",
       "      <td>22949</td>\n",
       "    </tr>\n",
       "    <tr>\n",
       "      <th>July-2020</th>\n",
       "      <td>July 2020</td>\n",
       "      <td>8915</td>\n",
       "      <td>928</td>\n",
       "      <td>30152</td>\n",
       "    </tr>\n",
       "    <tr>\n",
       "      <th>August-2020</th>\n",
       "      <td>August 2020</td>\n",
       "      <td>7717</td>\n",
       "      <td>880</td>\n",
       "      <td>28019</td>\n",
       "    </tr>\n",
       "    <tr>\n",
       "      <th>September-2020</th>\n",
       "      <td>September 2020</td>\n",
       "      <td>6747</td>\n",
       "      <td>749</td>\n",
       "      <td>21693</td>\n",
       "    </tr>\n",
       "    <tr>\n",
       "      <th>October-2020</th>\n",
       "      <td>October 2020</td>\n",
       "      <td>6559</td>\n",
       "      <td>813</td>\n",
       "      <td>22854</td>\n",
       "    </tr>\n",
       "    <tr>\n",
       "      <th>November-2020</th>\n",
       "      <td>November 2020</td>\n",
       "      <td>5763</td>\n",
       "      <td>687</td>\n",
       "      <td>18875</td>\n",
       "    </tr>\n",
       "    <tr>\n",
       "      <th>December-2020</th>\n",
       "      <td>December 2020</td>\n",
       "      <td>5543</td>\n",
       "      <td>796</td>\n",
       "      <td>19071</td>\n",
       "    </tr>\n",
       "    <tr>\n",
       "      <th>January-2021</th>\n",
       "      <td>January 2021</td>\n",
       "      <td>7106</td>\n",
       "      <td>1033</td>\n",
       "      <td>23389</td>\n",
       "    </tr>\n",
       "    <tr>\n",
       "      <th>February-2021</th>\n",
       "      <td>February 2021</td>\n",
       "      <td>6667</td>\n",
       "      <td>994</td>\n",
       "      <td>22676</td>\n",
       "    </tr>\n",
       "    <tr>\n",
       "      <th>March-2021</th>\n",
       "      <td>March 2021</td>\n",
       "      <td>6477</td>\n",
       "      <td>1214</td>\n",
       "      <td>31369</td>\n",
       "    </tr>\n",
       "    <tr>\n",
       "      <th>April-2021</th>\n",
       "      <td>April 2021</td>\n",
       "      <td>8126</td>\n",
       "      <td>1535</td>\n",
       "      <td>34927</td>\n",
       "    </tr>\n",
       "  </tbody>\n",
       "</table>\n",
       "</div>"
      ],
      "text/plain": [
       "                         month  dropoff_users  returning_user  new_users\n",
       "April-2020          April 2020            610              99      15117\n",
       "May-2020              May 2020           7146             638      20295\n",
       "June-2020            June 2020           8144             870      22949\n",
       "July-2020            July 2020           8915             928      30152\n",
       "August-2020        August 2020           7717             880      28019\n",
       "September-2020  September 2020           6747             749      21693\n",
       "October-2020      October 2020           6559             813      22854\n",
       "November-2020    November 2020           5763             687      18875\n",
       "December-2020    December 2020           5543             796      19071\n",
       "January-2021      January 2021           7106            1033      23389\n",
       "February-2021    February 2021           6667             994      22676\n",
       "March-2021          March 2021           6477            1214      31369\n",
       "April-2021          April 2021           8126            1535      34927"
      ]
     },
     "execution_count": 236,
     "metadata": {},
     "output_type": "execute_result"
    }
   ],
   "source": [
    "df_final = pd.DataFrame({'month': month_list, 'dropoff_users': pd.Series(dropOff), 'returning_user': pd.Series(returnUser), 'new_users': pd.Series(newUser)})\n",
    "df_final"
   ]
  },
  {
   "cell_type": "code",
   "execution_count": 237,
   "metadata": {},
   "outputs": [],
   "source": [
    "# Store result to csv file\n",
    "df_final.to_csv('result.csv', index=False)"
   ]
  },
  {
   "cell_type": "markdown",
   "metadata": {},
   "source": [
    "## Visualisation"
   ]
  },
  {
   "cell_type": "code",
   "execution_count": 238,
   "metadata": {},
   "outputs": [
    {
     "data": {
      "text/plain": [
       "Text(0, 0.5, 'Users')"
      ]
     },
     "execution_count": 238,
     "metadata": {},
     "output_type": "execute_result"
    },
    {
     "data": {
      "image/png": "[encoded data removed]",
      "text/plain": [
       "<Figure size 2000x800 with 1 Axes>"
      ]
     },
     "metadata": {},
     "output_type": "display_data"
    }
   ],
   "source": [
    "sns.set_theme(style='darkgrid')\n",
    "\n",
    "plt.figure(figsize=(20, 8), dpi=100)\n",
    "graph = sns.lineplot(data=df_final, dashes=False)\n",
    "graph.set_title('User Activities', fontsize = 18)\n",
    "graph.set_xlabel('Month', fontsize = 14)\n",
    "graph.set_ylabel('Users', fontsize = 14)"
   ]
  }
 ],
 "metadata": {
  "interpreter": {
   "hash": "ea51e475891ca790c54a725496b7fac20a92b46aeab64ead1c1373b2d821abcb"
  },
  "kernelspec": {
   "display_name": "Python 3.9.4 64-bit",
   "language": "python",
   "name": "python3"
  },
  "language_info": {
   "codemirror_mode": {
    "name": "ipython",
    "version": 3
   },
   "file_extension": ".py",
   "mimetype": "text/x-python",
   "name": "python",
   "nbconvert_exporter": "python",
   "pygments_lexer": "ipython3",
   "version": "3.9.4"
  },
  "orig_nbformat": 4
 },
 "nbformat": 4,
 "nbformat_minor": 2
}
