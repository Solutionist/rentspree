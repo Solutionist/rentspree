{
 "cells": [
  {
   "cell_type": "code",
   "execution_count": null,
   "metadata": {},
   "outputs": [],
   "source": [
    "# Library\n",
    "import pandas as pd\n",
    "import numpy as np\n",
    "import calendar\n",
    "import copy\n",
    "import datetime\n",
    "import multiprocessing\n",
    "import helper as h\n",
    "from tqdm import tqdm\n",
    "from itertools import repeat"
   ]
  },
  {
   "cell_type": "code",
   "execution_count": null,
   "metadata": {},
   "outputs": [],
   "source": [
    "df = pd.read_csv('daily_transactions.csv', sep=',')\n",
    "print(df.shape)\n",
    "df.head(5)"
   ]
  },
  {
   "cell_type": "code",
   "execution_count": null,
   "metadata": {},
   "outputs": [],
   "source": [
    "df.info()"
   ]
  },
  {
   "cell_type": "code",
   "execution_count": null,
   "metadata": {},
   "outputs": [],
   "source": [
    "# Convert column from obj to datetime\n",
    "df['event_date'] = pd.to_datetime(df['event_date'])\n",
    "\n",
    "# Sort dataframe\n",
    "df = df[df['event_date'] <= '2021-04-30']\n",
    "df = df.sort_values(by=['_id', 'event_date'])"
   ]
  },
  {
   "cell_type": "code",
   "execution_count": 6,
   "metadata": {},
   "outputs": [],
   "source": [
    "# unique_id = list(df['_id'].unique())\n",
    "\n",
    "# with multiprocessing.Pool(multiprocessing.cpu_count()) as pool:\n",
    "#     index = pool.starmap(h.check_usertype, zip(unique_id, repeat(df)))\n",
    "\n",
    "# # Drop index\n",
    "# df.drop(index)"
   ]
  },
  {
   "cell_type": "code",
   "execution_count": null,
   "metadata": {},
   "outputs": [],
   "source": [
    "# Store result\n",
    "months = list(calendar.month_name[1:])\n",
    "years = [2020, 2021]\n",
    "newUser = {}\n",
    "\n",
    "# Create dict to store new user\n",
    "for y in years:\n",
    "    for m in months:\n",
    "        newUser[\"{}-{}\".format(m, y)] = 0\n",
    "\n",
    "# Copy\n",
    "dropOff = copy.deepcopy(newUser)\n",
    "returnUser = copy.deepcopy(newUser)"
   ]
  },
  {
   "cell_type": "code",
   "execution_count": null,
   "metadata": {},
   "outputs": [],
   "source": [
    "# Convert column from obj to datetime\n",
    "df['event_date'] = pd.to_datetime(df['event_date'])\n",
    "\n",
    "# Sort dataframe and drop duplicate\n",
    "df_ft = df.drop_duplicates(subset=['_id'], keep='first')\n",
    "df_ft = df_ft.sort_values(by='event_date')\n",
    "df_ft = df_ft[df_ft['event_date'] >= '2020-04-01']\n",
    "\n",
    "# Add columns\n",
    "df_ft['first_tran'] = True\n",
    "\n",
    "# Count new user for each months\n",
    "for _, row in tqdm(df_ft.iterrows()):\n",
    "    newUser[\"{}-{}\".format(calendar.month_name[row['event_date'].month], row['event_date'].year)] += 1\n",
    "\n",
    "# New users\n",
    "newUser = {k:v for k,v in newUser.items() if v != 0}\n",
    "newUser"
   ]
  },
  {
   "cell_type": "code",
   "execution_count": null,
   "metadata": {},
   "outputs": [],
   "source": [
    "# Sort dataframe and drop duplicate\n",
    "df_lt_churn = df.drop_duplicates(subset=['_id'], keep='last')\n",
    "df_lt_churn = df_lt_churn.sort_values(by='event_date')\n",
    "df_lt_store = df_lt_churn[df_lt_churn['event_date'] >= '2020-04-01']\n",
    "\n",
    "# Churn periods\n",
    "churn = {'A': 360, 'B': 360, 'C': 120, 'D': 260}\n",
    "\n",
    "# Add the churn values to all of the row\n",
    "for idx, row in tqdm(df_lt_churn.iterrows()):\n",
    "    df_lt_churn.at[idx, 'event_date'] = row['event_date'] + datetime.timedelta(days=churn[row['usertype']])\n",
    "\n",
    "# Filter\n",
    "df_lt_churn = df_lt_churn[(df_lt_churn['event_date'] >= '2020-04-01') & (df_lt_churn['event_date'] <= '2021-04-30')]\n",
    "\n",
    "# Count drop off user for each months\n",
    "for _, row in tqdm(df_lt_churn.iterrows()):\n",
    "    dropOff[\"{}-{}\".format(calendar.month_name[row['event_date'].month], row['event_date'].year)] += 1\n",
    "\n",
    "# Old users\n",
    "dropOff"
   ]
  },
  {
   "cell_type": "code",
   "execution_count": null,
   "metadata": {},
   "outputs": [],
   "source": [
    "# Add columns\n",
    "df_lt_store['last_tran'] = True\n",
    "\n",
    "# Filter\n",
    "df = df[(df['event_date'] >= '2020-04-01') & (df['event_date'] <= '2021-04-30')]\n",
    "\n",
    "# Merge\n",
    "df_merge = pd.merge(df_ft, df_lt_store, how=\"outer\", on=['_id', 'event_date', 'usertype'])\n",
    "df_merge = pd.merge(df_merge, df, how=\"outer\", on=['_id', 'event_date', 'usertype'])\n",
    "df_merge = df_merge.replace(np.nan, False)\n",
    "\n",
    "# Remove value with single transaction (true & true)\n",
    "df_merge = df_merge[(df_merge['first_tran'] != True) | (df_merge['last_tran'] != True)]\n",
    "df_merge = df_merge[(df_merge['first_tran'] != True)]\n",
    "df_merge"
   ]
  },
  {
   "cell_type": "code",
   "execution_count": null,
   "metadata": {},
   "outputs": [],
   "source": [
    "# Sort dataframe and drop duplicate\n",
    "df_ft_churn = df.drop_duplicates(subset=['_id'], keep='first')\n",
    "df_ft_churn = df_ft_churn.sort_values(by='event_date')\n",
    "\n",
    "# Filter\n",
    "df_ft_churn = df_ft_churn[df_ft_churn['event_date'] <= '2021-04-30']\n",
    "df_ft_churn.sort_values(by='event_date')"
   ]
  },
  {
   "cell_type": "code",
   "execution_count": null,
   "metadata": {},
   "outputs": [],
   "source": [
    "# Convert to numpy array\n",
    "user_ids = list(df_merge['_id'].unique())\n",
    "np_merge = df_merge.to_numpy()\n",
    "np_ft_churn = df_ft_churn.to_numpy()"
   ]
  },
  {
   "cell_type": "code",
   "execution_count": null,
   "metadata": {},
   "outputs": [],
   "source": [
    "# Run multiprocessing\n",
    "with multiprocessing.Pool(multiprocessing.cpu_count()) as pool:\n",
    "    result = pool.starmap(h.find_return_user, zip(user_ids, repeat(np_merge), repeat(np_ft_churn), repeat(dropOff), repeat(returnUser)))    \n",
    "\n",
    "# Print result\n",
    "returnUser = {k:v for k,v in result[1].items() if v != 0}\n",
    "returnUser"
   ]
  },
  {
   "cell_type": "code",
   "execution_count": null,
   "metadata": {},
   "outputs": [],
   "source": [
    "# Print result\n",
    "dropOff = {k:v for k,v in result[0].items() if v != 0}\n",
    "dropOff"
   ]
  },
  {
   "cell_type": "code",
   "execution_count": null,
   "metadata": {},
   "outputs": [],
   "source": [
    "# test = {'_id': ['abc', 'abc', 'abc', 'abc'], \n",
    "#         'event_date': ['2020-04-01', '2020-10-20', '2020-10-21', '2021-04-29'], \n",
    "#         'usertype': ['C', 'C', 'C', 'C'], \n",
    "#         'first_tran': [True, False, False, False], \n",
    "#         'last_tran': [False, False, False, True]\n",
    "#     }\n",
    "\n",
    "# # Churn periods\n",
    "# churn = {'A': 360, 'B': 360, 'C': 120, 'D': 260}\n",
    "\n",
    "# df_test = pd.DataFrame(test)\n",
    "# df_test['event_date'] = pd.to_datetime(df_test['event_date'])\n",
    "\n",
    "# churn_period = datetime.time()\n",
    "# for idx, row in df_test.iterrows():\n",
    "#     if row['first_tran'] == True:\n",
    "#         churn_period = row['event_date'] + datetime.timedelta(days=churn[row['usertype']])\n",
    "#         continue\n",
    "    \n",
    "#     if row['event_date'] < churn_period:\n",
    "#         continue\n",
    "#     else:\n",
    "#         dropOff[\"{}-{}\".format(calendar.month_name[churn_period.month], churn_period.year)] += 1\n",
    "#         returnUser[\"{}-{}\".format(calendar.month_name[row['event_date'].month], row['event_date'].year)] += 1\n",
    "#         churn_period = row['event_date'] + datetime.timedelta(days=churn[row['usertype']])\n",
    "\n",
    "# returnUser = {k:v for k,v in returnUser.items() if v != 0}\n",
    "# dropOff = {k:v for k,v in dropOff.items() if v != 0}\n",
    "\n",
    "# print(dropOff, returnUser)"
   ]
  },
  {
   "cell_type": "code",
   "execution_count": null,
   "metadata": {},
   "outputs": [],
   "source": [
    "# # Grouping\n",
    "# df_a = df_sep.loc[df['usertype'] == 'A']\n",
    "# df_b = df_sep.loc[df['usertype'] == 'B']\n",
    "# df_c = df_sep.loc[df['usertype'] == 'C']\n",
    "# df_d = df_sep.loc[df['usertype'] == 'D']\n",
    "\n",
    "# # Data Summary\n",
    "# display = pd.DataFrame({'usertype': ['A', 'B', 'C', 'D'], 'unique': [len(df_a['_id'].unique()), len(df_b['_id'].unique()), len(df_c['_id'].unique()), len(df_d['_id'].unique())], 'count': [len(df_a), len(df_b), len(df_c), len(df_d)]})\n",
    "# display"
   ]
  }
 ],
 "metadata": {
  "interpreter": {
   "hash": "137b02ee4c4bcde3ddcc913b3677021613a3febb7e7f3d8deeba44e3db90bd6a"
  },
  "kernelspec": {
   "display_name": "Python 3.9.4 ('rentspree': venv)",
   "language": "python",
   "name": "python3"
  },
  "language_info": {
   "codemirror_mode": {
    "name": "ipython",
    "version": 3
   },
   "file_extension": ".py",
   "mimetype": "text/x-python",
   "name": "python",
   "nbconvert_exporter": "python",
   "pygments_lexer": "ipython3",
   "version": "3.9.4"
  },
  "orig_nbformat": 4
 },
 "nbformat": 4,
 "nbformat_minor": 2
}
