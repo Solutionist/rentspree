{
 "cells": [
  {
   "cell_type": "markdown",
   "metadata": {},
   "source": [
    "# RentSpree Test"
   ]
  },
  {
   "cell_type": "code",
   "execution_count": 144,
   "metadata": {},
   "outputs": [],
   "source": [
    "# Library\n",
    "import pandas as pd\n",
    "import numpy as np\n",
    "import calendar\n",
    "import copy\n",
    "import datetime\n",
    "\n",
    "import seaborn as sns\n",
    "import matplotlib.pyplot as plt\n",
    "\n",
    "from tqdm import tqdm"
   ]
  },
  {
   "cell_type": "markdown",
   "metadata": {},
   "source": [
    "### Setting"
   ]
  },
  {
   "cell_type": "code",
   "execution_count": 145,
   "metadata": {},
   "outputs": [],
   "source": [
    "years = [2020, 2021]\n",
    "months = list(calendar.month_name[1:])\n",
    "churn = {'A': 360, 'B': 360, 'C': 120, 'D': 260}\n",
    "max_date_range = '2021-04-30'\n",
    "target_date_range = ['2020-04-1', max_date_range]"
   ]
  },
  {
   "cell_type": "markdown",
   "metadata": {},
   "source": [
    "### Data Exploration"
   ]
  },
  {
   "cell_type": "code",
   "execution_count": 146,
   "metadata": {},
   "outputs": [
    {
     "name": "stdout",
     "output_type": "stream",
     "text": [
      "(1210998, 3)\n"
     ]
    },
    {
     "data": {
      "text/html": [
       "<div>\n",
       "<style scoped>\n",
       "    .dataframe tbody tr th:only-of-type {\n",
       "        vertical-align: middle;\n",
       "    }\n",
       "\n",
       "    .dataframe tbody tr th {\n",
       "        vertical-align: top;\n",
       "    }\n",
       "\n",
       "    .dataframe thead th {\n",
       "        text-align: right;\n",
       "    }\n",
       "</style>\n",
       "<table border=\"1\" class=\"dataframe\">\n",
       "  <thead>\n",
       "    <tr style=\"text-align: right;\">\n",
       "      <th></th>\n",
       "      <th>_id</th>\n",
       "      <th>event_date</th>\n",
       "      <th>usertype</th>\n",
       "    </tr>\n",
       "  </thead>\n",
       "  <tbody>\n",
       "    <tr>\n",
       "      <th>0</th>\n",
       "      <td>By1+rEy20nW/sgRehb+RSZe9VI8=</td>\n",
       "      <td>2021-02-10</td>\n",
       "      <td>A</td>\n",
       "    </tr>\n",
       "    <tr>\n",
       "      <th>1</th>\n",
       "      <td>x7lxSW+y6Kymzxf1yrriMXDNZWQ=</td>\n",
       "      <td>2021-02-10</td>\n",
       "      <td>A</td>\n",
       "    </tr>\n",
       "    <tr>\n",
       "      <th>2</th>\n",
       "      <td>BQ7feJAnc6ntg4PaOXShHLrd3xQ=</td>\n",
       "      <td>2021-02-24</td>\n",
       "      <td>A</td>\n",
       "    </tr>\n",
       "    <tr>\n",
       "      <th>3</th>\n",
       "      <td>xmc9CsW3Q7K9HK5+pczuRvKUCBk=</td>\n",
       "      <td>2020-12-08</td>\n",
       "      <td>A</td>\n",
       "    </tr>\n",
       "    <tr>\n",
       "      <th>4</th>\n",
       "      <td>Dt0y6YCKnC/mD9Sm1SkNkwsrgzY=</td>\n",
       "      <td>2020-06-17</td>\n",
       "      <td>A</td>\n",
       "    </tr>\n",
       "  </tbody>\n",
       "</table>\n",
       "</div>"
      ],
      "text/plain": [
       "                            _id  event_date usertype\n",
       "0  By1+rEy20nW/sgRehb+RSZe9VI8=  2021-02-10        A\n",
       "1  x7lxSW+y6Kymzxf1yrriMXDNZWQ=  2021-02-10        A\n",
       "2  BQ7feJAnc6ntg4PaOXShHLrd3xQ=  2021-02-24        A\n",
       "3  xmc9CsW3Q7K9HK5+pczuRvKUCBk=  2020-12-08        A\n",
       "4  Dt0y6YCKnC/mD9Sm1SkNkwsrgzY=  2020-06-17        A"
      ]
     },
     "execution_count": 146,
     "metadata": {},
     "output_type": "execute_result"
    }
   ],
   "source": [
    "df = pd.read_csv('daily_transactions.csv', sep=',')\n",
    "print(df.shape)\n",
    "df.head(5)"
   ]
  },
  {
   "cell_type": "code",
   "execution_count": 147,
   "metadata": {},
   "outputs": [],
   "source": [
    "# Convert column from obj to datetime\n",
    "df['event_date'] = pd.to_datetime(df['event_date'])\n",
    "\n",
    "# Sort dataframe\n",
    "df = df[df['event_date'] <= max_date_range]\n",
    "df = df.sort_values(by=['_id', 'event_date'])"
   ]
  },
  {
   "cell_type": "markdown",
   "metadata": {},
   "source": [
    "### Check usertype\n",
    "If the same user contain more than 1 types of class (A, B, C, D) then \n",
    "that users will not be including in the final result. The code\n",
    "below check all uniques users if they contain more than 1 types of \n",
    "user class."
   ]
  },
  {
   "cell_type": "code",
   "execution_count": 148,
   "metadata": {},
   "outputs": [
    {
     "name": "stderr",
     "output_type": "stream",
     "text": [
      "100%|██████████| 432458/432458 [00:48<00:00, 9001.29it/s]\n"
     ]
    }
   ],
   "source": [
    "common_ids = list(df['_id'].unique())\n",
    "groups = df.groupby(['_id'])\n",
    "\n",
    "# Check type\n",
    "def is_unique(data):\n",
    "    check = data.to_numpy()\n",
    "    return (check[0] == check).all()\n",
    "\n",
    "for ids in tqdm(common_ids):\n",
    "    group = groups.get_group(ids)\n",
    "\n",
    "    if len(group) > 1:\n",
    "        result = is_unique(group['usertype'])\n",
    "        if result == False:\n",
    "            df.drop(group.index)"
   ]
  },
  {
   "cell_type": "markdown",
   "metadata": {},
   "source": [
    "### Creating dictionary\n",
    "The dictionary below are created to store the result of each type \n",
    "of user which are dropoff, returned or new users. The dictionary\n",
    "created below will store the result from Jan 2020 to Dec 2021."
   ]
  },
  {
   "cell_type": "code",
   "execution_count": 149,
   "metadata": {},
   "outputs": [],
   "source": [
    "# Store result\n",
    "newUser = {}\n",
    "\n",
    "# Create dict to store new user\n",
    "for y in years:\n",
    "    for m in months:\n",
    "        newUser[\"{}-{}\".format(m, y)] = 0\n",
    "\n",
    "# Copy\n",
    "dropOff = copy.deepcopy(newUser)\n",
    "returnUser = copy.deepcopy(newUser)"
   ]
  },
  {
   "cell_type": "markdown",
   "metadata": {},
   "source": [
    "### Data Extraction\n",
    "The total numbers of new users can be easily found by removing the duplicates of each ids\n",
    "and keeping only the first row of each ids. Since we already sort the dataset before\n",
    "removing the duplicates only the first ever transaction of each user is kept. Since this\n",
    "is the first ever transaction we can automatically marked them as new users."
   ]
  },
  {
   "cell_type": "code",
   "execution_count": 150,
   "metadata": {},
   "outputs": [
    {
     "name": "stderr",
     "output_type": "stream",
     "text": [
      "432458it [00:20, 21235.88it/s]\n"
     ]
    },
    {
     "data": {
      "text/plain": [
       "{'January-2020': 12732,\n",
       " 'February-2020': 12891,\n",
       " 'March-2020': 13021,\n",
       " 'April-2020': 15117,\n",
       " 'May-2020': 20295,\n",
       " 'June-2020': 22949,\n",
       " 'July-2020': 30152,\n",
       " 'August-2020': 28019,\n",
       " 'September-2020': 21693,\n",
       " 'October-2020': 22854,\n",
       " 'November-2020': 18875,\n",
       " 'December-2020': 19071,\n",
       " 'January-2021': 23389,\n",
       " 'February-2021': 22676,\n",
       " 'March-2021': 31369,\n",
       " 'April-2021': 34927,\n",
       " 'May-2021': 0,\n",
       " 'June-2021': 0,\n",
       " 'July-2021': 0,\n",
       " 'August-2021': 0,\n",
       " 'September-2021': 0,\n",
       " 'October-2021': 0,\n",
       " 'November-2021': 0,\n",
       " 'December-2021': 0}"
      ]
     },
     "execution_count": 150,
     "metadata": {},
     "output_type": "execute_result"
    }
   ],
   "source": [
    "# Convert column from obj to datetime\n",
    "df['event_date'] = pd.to_datetime(df['event_date'])\n",
    "\n",
    "# Sort dataframe and drop duplicate\n",
    "df_ft = df.drop_duplicates(subset=['_id'], keep='first')\n",
    "df_ft = df_ft.sort_values(by='event_date')\n",
    "df_ft['first_tran'] = True\n",
    "df_ft_merge = df_ft\n",
    "\n",
    "# Count new user for each months\n",
    "for _, row in tqdm(df_ft.iterrows()):\n",
    "    if row['event_date'].year in years:\n",
    "        newUser[\"{}-{}\".format(calendar.month_name[row['event_date'].month], row['event_date'].year)] += 1\n",
    "\n",
    "# New users\n",
    "newUser"
   ]
  },
  {
   "cell_type": "markdown",
   "metadata": {},
   "source": [
    "This is the same as above since we can also keep the last ever transaction the users had ever done. \n",
    "We can added the churn periods of each type users and then count up when they would then be considered \n",
    "user that drop off the platform."
   ]
  },
  {
   "cell_type": "code",
   "execution_count": 151,
   "metadata": {},
   "outputs": [
    {
     "name": "stderr",
     "output_type": "stream",
     "text": [
      "432458it [00:29, 14474.13it/s]\n"
     ]
    },
    {
     "data": {
      "text/plain": [
       "{'January-2020': 861,\n",
       " 'February-2020': 878,\n",
       " 'March-2020': 820,\n",
       " 'April-2020': 675,\n",
       " 'May-2020': 7646,\n",
       " 'June-2020': 10327,\n",
       " 'July-2020': 11909,\n",
       " 'August-2020': 10768,\n",
       " 'September-2020': 9886,\n",
       " 'October-2020': 9867,\n",
       " 'November-2020': 9457,\n",
       " 'December-2020': 9058,\n",
       " 'January-2021': 12710,\n",
       " 'February-2021': 12347,\n",
       " 'March-2021': 12049,\n",
       " 'April-2021': 15019,\n",
       " 'May-2021': 20122,\n",
       " 'June-2021': 21610,\n",
       " 'July-2021': 29666,\n",
       " 'August-2021': 28504,\n",
       " 'September-2021': 20312,\n",
       " 'October-2021': 21450,\n",
       " 'November-2021': 18531,\n",
       " 'December-2021': 18183}"
      ]
     },
     "execution_count": 151,
     "metadata": {},
     "output_type": "execute_result"
    }
   ],
   "source": [
    "# Sort dataframe and drop duplicate\n",
    "df_lt_churn = df.drop_duplicates(subset=['_id'], keep='last')\n",
    "df_lt_churn = df_lt_churn.sort_values(by='event_date')\n",
    "df_lt_merge = df_lt_churn\n",
    "\n",
    "# Add the churn values to all of the row and count dropOff date\n",
    "for idx, row in tqdm(df_lt_churn.iterrows()):\n",
    "    diff = row['event_date'] + datetime.timedelta(days=churn[row['usertype']])\n",
    "    \n",
    "    if diff.year in years:\n",
    "        dropOff[\"{}-{}\".format(calendar.month_name[diff.month], diff.year)] += 1\n",
    "\n",
    "# Old users\n",
    "dropOff"
   ]
  },
  {
   "cell_type": "markdown",
   "metadata": {},
   "source": [
    "Create a new dataframe that also contain labeling of each transaction \n",
    "whether it is the first transaction, last transaction or none of those.\n",
    "This will contain all that transaction since the start of the given data set\n",
    "till the max date that we had set at the start of the notebook."
   ]
  },
  {
   "cell_type": "code",
   "execution_count": 152,
   "metadata": {},
   "outputs": [
    {
     "data": {
      "text/html": [
       "<div>\n",
       "<style scoped>\n",
       "    .dataframe tbody tr th:only-of-type {\n",
       "        vertical-align: middle;\n",
       "    }\n",
       "\n",
       "    .dataframe tbody tr th {\n",
       "        vertical-align: top;\n",
       "    }\n",
       "\n",
       "    .dataframe thead th {\n",
       "        text-align: right;\n",
       "    }\n",
       "</style>\n",
       "<table border=\"1\" class=\"dataframe\">\n",
       "  <thead>\n",
       "    <tr style=\"text-align: right;\">\n",
       "      <th></th>\n",
       "      <th>_id</th>\n",
       "      <th>event_date</th>\n",
       "      <th>usertype</th>\n",
       "      <th>first_tran</th>\n",
       "      <th>last_tran</th>\n",
       "    </tr>\n",
       "  </thead>\n",
       "  <tbody>\n",
       "    <tr>\n",
       "      <th>1</th>\n",
       "      <td>7mipoXGVQZq6/rW0j2aKY+AReDk=</td>\n",
       "      <td>2019-05-13</td>\n",
       "      <td>A</td>\n",
       "      <td>True</td>\n",
       "      <td>False</td>\n",
       "    </tr>\n",
       "    <tr>\n",
       "      <th>2</th>\n",
       "      <td>cmicF5fh0PE4a32wIERHoil1IdM=</td>\n",
       "      <td>2019-05-13</td>\n",
       "      <td>A</td>\n",
       "      <td>True</td>\n",
       "      <td>False</td>\n",
       "    </tr>\n",
       "    <tr>\n",
       "      <th>3</th>\n",
       "      <td>6kkeH6lJflikhoAIspU2LOwrJaE=</td>\n",
       "      <td>2019-05-13</td>\n",
       "      <td>B</td>\n",
       "      <td>True</td>\n",
       "      <td>False</td>\n",
       "    </tr>\n",
       "    <tr>\n",
       "      <th>6</th>\n",
       "      <td>0WD5EnMlD2TmXT/Fj2grzOi8i7w=</td>\n",
       "      <td>2019-05-13</td>\n",
       "      <td>A</td>\n",
       "      <td>True</td>\n",
       "      <td>False</td>\n",
       "    </tr>\n",
       "    <tr>\n",
       "      <th>7</th>\n",
       "      <td>Wu8ZeeM/pY6LFPBjHT61b/TwAWM=</td>\n",
       "      <td>2019-05-13</td>\n",
       "      <td>C</td>\n",
       "      <td>True</td>\n",
       "      <td>False</td>\n",
       "    </tr>\n",
       "    <tr>\n",
       "      <th>...</th>\n",
       "      <td>...</td>\n",
       "      <td>...</td>\n",
       "      <td>...</td>\n",
       "      <td>...</td>\n",
       "      <td>...</td>\n",
       "    </tr>\n",
       "    <tr>\n",
       "      <th>1200810</th>\n",
       "      <td>zzyMFNFuAwqAN1FMkTmCD7gs1fU=</td>\n",
       "      <td>2021-02-26</td>\n",
       "      <td>A</td>\n",
       "      <td>False</td>\n",
       "      <td>False</td>\n",
       "    </tr>\n",
       "    <tr>\n",
       "      <th>1200811</th>\n",
       "      <td>zzyMFNFuAwqAN1FMkTmCD7gs1fU=</td>\n",
       "      <td>2021-02-28</td>\n",
       "      <td>A</td>\n",
       "      <td>False</td>\n",
       "      <td>False</td>\n",
       "    </tr>\n",
       "    <tr>\n",
       "      <th>1200812</th>\n",
       "      <td>zzyMFNFuAwqAN1FMkTmCD7gs1fU=</td>\n",
       "      <td>2021-03-01</td>\n",
       "      <td>A</td>\n",
       "      <td>False</td>\n",
       "      <td>False</td>\n",
       "    </tr>\n",
       "    <tr>\n",
       "      <th>1200813</th>\n",
       "      <td>zzyMFNFuAwqAN1FMkTmCD7gs1fU=</td>\n",
       "      <td>2021-03-02</td>\n",
       "      <td>A</td>\n",
       "      <td>False</td>\n",
       "      <td>False</td>\n",
       "    </tr>\n",
       "    <tr>\n",
       "      <th>1200814</th>\n",
       "      <td>zzyMFNFuAwqAN1FMkTmCD7gs1fU=</td>\n",
       "      <td>2021-03-03</td>\n",
       "      <td>A</td>\n",
       "      <td>False</td>\n",
       "      <td>False</td>\n",
       "    </tr>\n",
       "  </tbody>\n",
       "</table>\n",
       "<p>986095 rows × 5 columns</p>\n",
       "</div>"
      ],
      "text/plain": [
       "                                  _id event_date usertype  first_tran  \\\n",
       "1        7mipoXGVQZq6/rW0j2aKY+AReDk= 2019-05-13        A        True   \n",
       "2        cmicF5fh0PE4a32wIERHoil1IdM= 2019-05-13        A        True   \n",
       "3        6kkeH6lJflikhoAIspU2LOwrJaE= 2019-05-13        B        True   \n",
       "6        0WD5EnMlD2TmXT/Fj2grzOi8i7w= 2019-05-13        A        True   \n",
       "7        Wu8ZeeM/pY6LFPBjHT61b/TwAWM= 2019-05-13        C        True   \n",
       "...                               ...        ...      ...         ...   \n",
       "1200810  zzyMFNFuAwqAN1FMkTmCD7gs1fU= 2021-02-26        A       False   \n",
       "1200811  zzyMFNFuAwqAN1FMkTmCD7gs1fU= 2021-02-28        A       False   \n",
       "1200812  zzyMFNFuAwqAN1FMkTmCD7gs1fU= 2021-03-01        A       False   \n",
       "1200813  zzyMFNFuAwqAN1FMkTmCD7gs1fU= 2021-03-02        A       False   \n",
       "1200814  zzyMFNFuAwqAN1FMkTmCD7gs1fU= 2021-03-03        A       False   \n",
       "\n",
       "         last_tran  \n",
       "1            False  \n",
       "2            False  \n",
       "3            False  \n",
       "6            False  \n",
       "7            False  \n",
       "...            ...  \n",
       "1200810      False  \n",
       "1200811      False  \n",
       "1200812      False  \n",
       "1200813      False  \n",
       "1200814      False  \n",
       "\n",
       "[986095 rows x 5 columns]"
      ]
     },
     "execution_count": 152,
     "metadata": {},
     "output_type": "execute_result"
    }
   ],
   "source": [
    "# Add columns\n",
    "df_lt_merge['last_tran'] = True\n",
    "\n",
    "# Filter\n",
    "df = df[df['event_date'] <= max_date_range]\n",
    "\n",
    "# Merge\n",
    "df_merge = pd.merge(df_ft_merge, df_lt_merge, how=\"outer\", on=['_id', 'event_date', 'usertype'])\n",
    "df_merge = pd.merge(df_merge, df, how=\"outer\", on=['_id', 'event_date', 'usertype'])\n",
    "df_merge = df_merge.replace(np.nan, False)\n",
    "\n",
    "# Remove value with single transaction (true & true)\n",
    "df_merge = df_merge[(df_merge['first_tran'] != True) | (df_merge['last_tran'] != True)]\n",
    "df_merge"
   ]
  },
  {
   "cell_type": "markdown",
   "metadata": {},
   "source": [
    "We can find the remained users by calculating the first transaction added the churn periods.\n",
    "If the next transaction made by the same ids occurred before the added churn date then they\n",
    "won't be counted as return user. However, if they return after the churn period then they are counted\n",
    "as one. We also need to count drop off users in the process as they could come and leave. Once\n",
    "they have been marked as returned we will calculate the new churn date as repeat the process."
   ]
  },
  {
   "cell_type": "code",
   "execution_count": 153,
   "metadata": {},
   "outputs": [
    {
     "name": "stderr",
     "output_type": "stream",
     "text": [
      "100%|██████████| 217738/217738 [00:44<00:00, 4904.78it/s]\n"
     ]
    },
    {
     "data": {
      "text/plain": [
       "{'January-2020': 41,\n",
       " 'February-2020': 114,\n",
       " 'March-2020': 151,\n",
       " 'April-2020': 136,\n",
       " 'May-2020': 740,\n",
       " 'June-2020': 1013,\n",
       " 'July-2020': 1156,\n",
       " 'August-2020': 1149,\n",
       " 'September-2020': 1039,\n",
       " 'October-2020': 1175,\n",
       " 'November-2020': 1046,\n",
       " 'December-2020': 1223,\n",
       " 'January-2021': 1664,\n",
       " 'February-2021': 1759,\n",
       " 'March-2021': 2460,\n",
       " 'April-2021': 4901,\n",
       " 'May-2021': 0,\n",
       " 'June-2021': 0,\n",
       " 'July-2021': 0,\n",
       " 'August-2021': 0,\n",
       " 'September-2021': 0,\n",
       " 'October-2021': 0,\n",
       " 'November-2021': 0,\n",
       " 'December-2021': 0}"
      ]
     },
     "execution_count": 153,
     "metadata": {},
     "output_type": "execute_result"
    }
   ],
   "source": [
    "all_ids = df_merge['_id'].unique()\n",
    "groups = df_merge.groupby(['_id'])\n",
    "\n",
    "# Check type\n",
    "def count_returned(data):\n",
    "    numpy_data = data.to_numpy()\n",
    "    churn_period = numpy_data[0][1] + datetime.timedelta(days=churn[numpy_data[0][2]])\n",
    "    \n",
    "    for row in numpy_data:\n",
    "        if row[1] > churn_period:\n",
    "            if (row[1].year in years) and (churn_period.year in years):\n",
    "                dropOff[\"{}-{}\".format(calendar.month_name[churn_period.month], churn_period.year)] += 1\n",
    "                returnUser[\"{}-{}\".format(calendar.month_name[row[1].month], row[1].year)] += 1\n",
    "\n",
    "            if row[4] != True:\n",
    "                churn_period = row[1] + datetime.timedelta(days=churn[row[2]])\n",
    "    \n",
    "for ids in tqdm(all_ids):\n",
    "    group = groups.get_group(ids)\n",
    "\n",
    "    if len(group) > 1:\n",
    "        count_returned(group)\n",
    "\n",
    "returnUser"
   ]
  },
  {
   "cell_type": "markdown",
   "metadata": {},
   "source": [
    "Generate the months between the target date and filter out the result of each\n",
    "user count for the target date."
   ]
  },
  {
   "cell_type": "code",
   "execution_count": 154,
   "metadata": {},
   "outputs": [],
   "source": [
    "filter_range_start = datetime.datetime.strptime(target_date_range[0], '%Y-%m-%d')\n",
    "filter_range_end = datetime.datetime.strptime(target_date_range[1], '%Y-%m-%d')\n",
    "target_year = [filter_range_start.year, filter_range_end.year]\n",
    "target_month = [filter_range_start.month, filter_range_end.month]\n",
    "\n",
    "def get_month_list(year, month):\n",
    "    target_month_list = []\n",
    "    month_list = []\n",
    "\n",
    "    # Store the first result\n",
    "    target_month_list.append('{}-{}'.format(calendar.month_name[month[0]], year[0]))\n",
    "    month_list.append('{} {}'.format(calendar.month_name[month[0]], year[0]))\n",
    "    \n",
    "    while (year[0], month[0]) <= (year[1], month[1] - 1):\n",
    "        if month[0] == 12:\n",
    "            month[0] = 1\n",
    "            year[0] += 1\n",
    "        else:\n",
    "            month[0] += 1\n",
    "\n",
    "        target_month_list.append('{}-{}'.format(calendar.month_name[month[0]], year[0]))\n",
    "        month_list.append('{} {}'.format(calendar.month_name[month[0]], year[0]))\n",
    "    \n",
    "    return target_month_list, month_list\n",
    "\n",
    "# Filter to the only desired target\n",
    "def filter_result(data_range, result):\n",
    "    store_keys = []\n",
    "    for key in result:\n",
    "        store_keys.append(key)\n",
    "\n",
    "    for key in store_keys:\n",
    "        if key not in data_range:\n",
    "            del result[key]\n",
    "\n",
    "# Filter result to intended month\n",
    "filter_range, month_list = get_month_list(target_year, target_month)\n",
    "\n",
    "filter_result(filter_range, returnUser)\n",
    "filter_result(filter_range, dropOff)\n",
    "filter_result(filter_range, newUser)"
   ]
  },
  {
   "cell_type": "code",
   "execution_count": 155,
   "metadata": {},
   "outputs": [
    {
     "data": {
      "text/html": [
       "<div>\n",
       "<style scoped>\n",
       "    .dataframe tbody tr th:only-of-type {\n",
       "        vertical-align: middle;\n",
       "    }\n",
       "\n",
       "    .dataframe tbody tr th {\n",
       "        vertical-align: top;\n",
       "    }\n",
       "\n",
       "    .dataframe thead th {\n",
       "        text-align: right;\n",
       "    }\n",
       "</style>\n",
       "<table border=\"1\" class=\"dataframe\">\n",
       "  <thead>\n",
       "    <tr style=\"text-align: right;\">\n",
       "      <th></th>\n",
       "      <th>month</th>\n",
       "      <th>dropoff_users</th>\n",
       "      <th>returning_user</th>\n",
       "      <th>new_users</th>\n",
       "    </tr>\n",
       "  </thead>\n",
       "  <tbody>\n",
       "    <tr>\n",
       "      <th>April-2020</th>\n",
       "      <td>April 2020</td>\n",
       "      <td>1037</td>\n",
       "      <td>136</td>\n",
       "      <td>15117</td>\n",
       "    </tr>\n",
       "    <tr>\n",
       "      <th>May-2020</th>\n",
       "      <td>May 2020</td>\n",
       "      <td>11294</td>\n",
       "      <td>740</td>\n",
       "      <td>20295</td>\n",
       "    </tr>\n",
       "    <tr>\n",
       "      <th>June-2020</th>\n",
       "      <td>June 2020</td>\n",
       "      <td>12946</td>\n",
       "      <td>1013</td>\n",
       "      <td>22949</td>\n",
       "    </tr>\n",
       "    <tr>\n",
       "      <th>July-2020</th>\n",
       "      <td>July 2020</td>\n",
       "      <td>14110</td>\n",
       "      <td>1156</td>\n",
       "      <td>30152</td>\n",
       "    </tr>\n",
       "    <tr>\n",
       "      <th>August-2020</th>\n",
       "      <td>August 2020</td>\n",
       "      <td>12397</td>\n",
       "      <td>1149</td>\n",
       "      <td>28019</td>\n",
       "    </tr>\n",
       "    <tr>\n",
       "      <th>September-2020</th>\n",
       "      <td>September 2020</td>\n",
       "      <td>11268</td>\n",
       "      <td>1039</td>\n",
       "      <td>21693</td>\n",
       "    </tr>\n",
       "    <tr>\n",
       "      <th>October-2020</th>\n",
       "      <td>October 2020</td>\n",
       "      <td>11182</td>\n",
       "      <td>1175</td>\n",
       "      <td>22854</td>\n",
       "    </tr>\n",
       "    <tr>\n",
       "      <th>November-2020</th>\n",
       "      <td>November 2020</td>\n",
       "      <td>10495</td>\n",
       "      <td>1046</td>\n",
       "      <td>18875</td>\n",
       "    </tr>\n",
       "    <tr>\n",
       "      <th>December-2020</th>\n",
       "      <td>December 2020</td>\n",
       "      <td>10156</td>\n",
       "      <td>1223</td>\n",
       "      <td>19071</td>\n",
       "    </tr>\n",
       "    <tr>\n",
       "      <th>January-2021</th>\n",
       "      <td>January 2021</td>\n",
       "      <td>13951</td>\n",
       "      <td>1664</td>\n",
       "      <td>23389</td>\n",
       "    </tr>\n",
       "    <tr>\n",
       "      <th>February-2021</th>\n",
       "      <td>February 2021</td>\n",
       "      <td>13193</td>\n",
       "      <td>1759</td>\n",
       "      <td>22676</td>\n",
       "    </tr>\n",
       "    <tr>\n",
       "      <th>March-2021</th>\n",
       "      <td>March 2021</td>\n",
       "      <td>12678</td>\n",
       "      <td>2460</td>\n",
       "      <td>31369</td>\n",
       "    </tr>\n",
       "    <tr>\n",
       "      <th>April-2021</th>\n",
       "      <td>April 2021</td>\n",
       "      <td>15474</td>\n",
       "      <td>4901</td>\n",
       "      <td>34927</td>\n",
       "    </tr>\n",
       "  </tbody>\n",
       "</table>\n",
       "</div>"
      ],
      "text/plain": [
       "                         month  dropoff_users  returning_user  new_users\n",
       "April-2020          April 2020           1037             136      15117\n",
       "May-2020              May 2020          11294             740      20295\n",
       "June-2020            June 2020          12946            1013      22949\n",
       "July-2020            July 2020          14110            1156      30152\n",
       "August-2020        August 2020          12397            1149      28019\n",
       "September-2020  September 2020          11268            1039      21693\n",
       "October-2020      October 2020          11182            1175      22854\n",
       "November-2020    November 2020          10495            1046      18875\n",
       "December-2020    December 2020          10156            1223      19071\n",
       "January-2021      January 2021          13951            1664      23389\n",
       "February-2021    February 2021          13193            1759      22676\n",
       "March-2021          March 2021          12678            2460      31369\n",
       "April-2021          April 2021          15474            4901      34927"
      ]
     },
     "execution_count": 155,
     "metadata": {},
     "output_type": "execute_result"
    }
   ],
   "source": [
    "df_final = pd.DataFrame({'month': month_list, 'dropoff_users': pd.Series(dropOff), 'returning_user': pd.Series(returnUser), 'new_users': pd.Series(newUser)})\n",
    "df_final"
   ]
  },
  {
   "cell_type": "code",
   "execution_count": 156,
   "metadata": {},
   "outputs": [],
   "source": [
    "# Store result to csv file\n",
    "df_final.to_csv('result.csv', index=False)"
   ]
  },
  {
   "cell_type": "markdown",
   "metadata": {},
   "source": [
    "## Visualisation"
   ]
  },
  {
   "cell_type": "code",
   "execution_count": 157,
   "metadata": {},
   "outputs": [
    {
     "data": {
      "text/plain": [
       "Text(0, 0.5, 'Users')"
      ]
     },
     "execution_count": 157,
     "metadata": {},
     "output_type": "execute_result"
    },
    {
     "data": {
      "image/png": "[encoded data removed]",
      "text/plain": [
       "<Figure size 2000x800 with 1 Axes>"
      ]
     },
     "metadata": {},
     "output_type": "display_data"
    }
   ],
   "source": [
    "sns.set_theme(style='darkgrid')\n",
    "\n",
    "plt.figure(figsize=(20, 8), dpi=100)\n",
    "graph = sns.lineplot(data=df_final, dashes=False)\n",
    "graph.set_title('User Activities', fontsize = 18)\n",
    "graph.set_xlabel('Month', fontsize = 14)\n",
    "graph.set_ylabel('Users', fontsize = 14)"
   ]
  }
 ],
 "metadata": {
  "interpreter": {
   "hash": "ea51e475891ca790c54a725496b7fac20a92b46aeab64ead1c1373b2d821abcb"
  },
  "kernelspec": {
   "display_name": "Python 3.9.4 64-bit",
   "language": "python",
   "name": "python3"
  },
  "language_info": {
   "codemirror_mode": {
    "name": "ipython",
    "version": 3
   },
   "file_extension": ".py",
   "mimetype": "text/x-python",
   "name": "python",
   "nbconvert_exporter": "python",
   "pygments_lexer": "ipython3",
   "version": "3.9.4"
  },
  "orig_nbformat": 4
 },
 "nbformat": 4,
 "nbformat_minor": 2
}
