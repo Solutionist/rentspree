{
 "cells": [
  {
   "cell_type": "code",
   "execution_count": 1,
   "metadata": {},
   "outputs": [],
   "source": [
    "# Library\n",
    "import pandas as pd\n",
    "import numpy as np\n",
    "import calendar\n",
    "import copy\n",
    "import datetime\n",
    "# import multiprocessing\n",
    "# import helper as h\n",
    "from tqdm import tqdm\n",
    "# from itertools import repeat"
   ]
  },
  {
   "cell_type": "code",
   "execution_count": 2,
   "metadata": {},
   "outputs": [
    {
     "name": "stdout",
     "output_type": "stream",
     "text": [
      "(1210998, 3)\n"
     ]
    },
    {
     "data": {
      "text/html": [
       "<div>\n",
       "<style scoped>\n",
       "    .dataframe tbody tr th:only-of-type {\n",
       "        vertical-align: middle;\n",
       "    }\n",
       "\n",
       "    .dataframe tbody tr th {\n",
       "        vertical-align: top;\n",
       "    }\n",
       "\n",
       "    .dataframe thead th {\n",
       "        text-align: right;\n",
       "    }\n",
       "</style>\n",
       "<table border=\"1\" class=\"dataframe\">\n",
       "  <thead>\n",
       "    <tr style=\"text-align: right;\">\n",
       "      <th></th>\n",
       "      <th>_id</th>\n",
       "      <th>event_date</th>\n",
       "      <th>usertype</th>\n",
       "    </tr>\n",
       "  </thead>\n",
       "  <tbody>\n",
       "    <tr>\n",
       "      <th>0</th>\n",
       "      <td>By1+rEy20nW/sgRehb+RSZe9VI8=</td>\n",
       "      <td>2021-02-10</td>\n",
       "      <td>A</td>\n",
       "    </tr>\n",
       "    <tr>\n",
       "      <th>1</th>\n",
       "      <td>x7lxSW+y6Kymzxf1yrriMXDNZWQ=</td>\n",
       "      <td>2021-02-10</td>\n",
       "      <td>A</td>\n",
       "    </tr>\n",
       "    <tr>\n",
       "      <th>2</th>\n",
       "      <td>BQ7feJAnc6ntg4PaOXShHLrd3xQ=</td>\n",
       "      <td>2021-02-24</td>\n",
       "      <td>A</td>\n",
       "    </tr>\n",
       "    <tr>\n",
       "      <th>3</th>\n",
       "      <td>xmc9CsW3Q7K9HK5+pczuRvKUCBk=</td>\n",
       "      <td>2020-12-08</td>\n",
       "      <td>A</td>\n",
       "    </tr>\n",
       "    <tr>\n",
       "      <th>4</th>\n",
       "      <td>Dt0y6YCKnC/mD9Sm1SkNkwsrgzY=</td>\n",
       "      <td>2020-06-17</td>\n",
       "      <td>A</td>\n",
       "    </tr>\n",
       "  </tbody>\n",
       "</table>\n",
       "</div>"
      ],
      "text/plain": [
       "                            _id  event_date usertype\n",
       "0  By1+rEy20nW/sgRehb+RSZe9VI8=  2021-02-10        A\n",
       "1  x7lxSW+y6Kymzxf1yrriMXDNZWQ=  2021-02-10        A\n",
       "2  BQ7feJAnc6ntg4PaOXShHLrd3xQ=  2021-02-24        A\n",
       "3  xmc9CsW3Q7K9HK5+pczuRvKUCBk=  2020-12-08        A\n",
       "4  Dt0y6YCKnC/mD9Sm1SkNkwsrgzY=  2020-06-17        A"
      ]
     },
     "execution_count": 2,
     "metadata": {},
     "output_type": "execute_result"
    }
   ],
   "source": [
    "df = pd.read_csv('daily_transactions.csv', sep=',')\n",
    "print(df.shape)\n",
    "df.head(5)"
   ]
  },
  {
   "cell_type": "code",
   "execution_count": 3,
   "metadata": {},
   "outputs": [
    {
     "name": "stdout",
     "output_type": "stream",
     "text": [
      "<class 'pandas.core.frame.DataFrame'>\n",
      "RangeIndex: 1210998 entries, 0 to 1210997\n",
      "Data columns (total 3 columns):\n",
      " #   Column      Non-Null Count    Dtype \n",
      "---  ------      --------------    ----- \n",
      " 0   _id         1210998 non-null  object\n",
      " 1   event_date  1210998 non-null  object\n",
      " 2   usertype    1210998 non-null  object\n",
      "dtypes: object(3)\n",
      "memory usage: 27.7+ MB\n"
     ]
    }
   ],
   "source": [
    "df.info()"
   ]
  },
  {
   "cell_type": "code",
   "execution_count": 4,
   "metadata": {},
   "outputs": [],
   "source": [
    "# Convert column from obj to datetime\n",
    "df['event_date'] = pd.to_datetime(df['event_date'])\n",
    "\n",
    "# Sort dataframe\n",
    "df = df[df['event_date'] <= '2021-04-30']\n",
    "df = df.sort_values(by=['_id', 'event_date'])"
   ]
  },
  {
   "cell_type": "code",
   "execution_count": 5,
   "metadata": {},
   "outputs": [],
   "source": [
    "# unique_id = list(df['_id'].unique())\n",
    "\n",
    "# with multiprocessing.Pool(multiprocessing.cpu_count()) as pool:\n",
    "#     index = pool.starmap(h.check_usertype, zip(unique_id, repeat(df)))\n",
    "\n",
    "# # Drop index\n",
    "# df.drop(index)"
   ]
  },
  {
   "cell_type": "code",
   "execution_count": 6,
   "metadata": {},
   "outputs": [],
   "source": [
    "# Store result\n",
    "months = list(calendar.month_name[1:])\n",
    "years = [2020, 2021]\n",
    "newUser = {}\n",
    "\n",
    "# Create dict to store new user\n",
    "for y in years:\n",
    "    for m in months:\n",
    "        newUser[\"{}-{}\".format(m, y)] = 0\n",
    "\n",
    "# Copy\n",
    "dropOff = copy.deepcopy(newUser)\n",
    "returnUser = copy.deepcopy(newUser)"
   ]
  },
  {
   "cell_type": "code",
   "execution_count": 7,
   "metadata": {},
   "outputs": [
    {
     "name": "stderr",
     "output_type": "stream",
     "text": [
      "311386it [00:14, 21044.58it/s]\n"
     ]
    },
    {
     "data": {
      "text/plain": [
       "{'April-2020': 15117,\n",
       " 'May-2020': 20295,\n",
       " 'June-2020': 22949,\n",
       " 'July-2020': 30152,\n",
       " 'August-2020': 28019,\n",
       " 'September-2020': 21693,\n",
       " 'October-2020': 22854,\n",
       " 'November-2020': 18875,\n",
       " 'December-2020': 19071,\n",
       " 'January-2021': 23389,\n",
       " 'February-2021': 22676,\n",
       " 'March-2021': 31369,\n",
       " 'April-2021': 34927}"
      ]
     },
     "execution_count": 7,
     "metadata": {},
     "output_type": "execute_result"
    }
   ],
   "source": [
    "# Convert column from obj to datetime\n",
    "df['event_date'] = pd.to_datetime(df['event_date'])\n",
    "\n",
    "# Sort dataframe and drop duplicate\n",
    "df_ft = df.drop_duplicates(subset=['_id'], keep='first')\n",
    "df_ft = df_ft.sort_values(by='event_date')\n",
    "df_ft = df_ft[df_ft['event_date'] >= '2020-04-01']\n",
    "\n",
    "# Add columns\n",
    "df_ft['first_tran'] = True\n",
    "\n",
    "# Count new user for each months\n",
    "for _, row in tqdm(df_ft.iterrows()):\n",
    "    newUser[\"{}-{}\".format(calendar.month_name[row['event_date'].month], row['event_date'].year)] += 1\n",
    "\n",
    "# New users\n",
    "newUser = {k:v for k,v in newUser.items() if v != 0}\n",
    "newUser"
   ]
  },
  {
   "cell_type": "code",
   "execution_count": 8,
   "metadata": {},
   "outputs": [
    {
     "name": "stderr",
     "output_type": "stream",
     "text": [
      "432458it [00:38, 11317.63it/s]\n",
      "131718it [00:08, 15630.48it/s]\n"
     ]
    },
    {
     "data": {
      "text/plain": [
       "{'January-2020': 0,\n",
       " 'February-2020': 0,\n",
       " 'March-2020': 0,\n",
       " 'April-2020': 675,\n",
       " 'May-2020': 7646,\n",
       " 'June-2020': 10327,\n",
       " 'July-2020': 11909,\n",
       " 'August-2020': 10768,\n",
       " 'September-2020': 9886,\n",
       " 'October-2020': 9867,\n",
       " 'November-2020': 9457,\n",
       " 'December-2020': 9058,\n",
       " 'January-2021': 12710,\n",
       " 'February-2021': 12347,\n",
       " 'March-2021': 12049,\n",
       " 'April-2021': 15019,\n",
       " 'May-2021': 0,\n",
       " 'June-2021': 0,\n",
       " 'July-2021': 0,\n",
       " 'August-2021': 0,\n",
       " 'September-2021': 0,\n",
       " 'October-2021': 0,\n",
       " 'November-2021': 0,\n",
       " 'December-2021': 0}"
      ]
     },
     "execution_count": 8,
     "metadata": {},
     "output_type": "execute_result"
    }
   ],
   "source": [
    "# Sort dataframe and drop duplicate\n",
    "df_lt_churn = df.drop_duplicates(subset=['_id'], keep='last')\n",
    "df_lt_churn = df_lt_churn.sort_values(by='event_date')\n",
    "df_lt_store = df_lt_churn[df_lt_churn['event_date'] >= '2020-04-01']\n",
    "\n",
    "# Churn periods\n",
    "churn = {'A': 360, 'B': 360, 'C': 120, 'D': 260}\n",
    "\n",
    "# Add the churn values to all of the row\n",
    "for idx, row in tqdm(df_lt_churn.iterrows()):\n",
    "    df_lt_churn.at[idx, 'event_date'] = row['event_date'] + datetime.timedelta(days=churn[row['usertype']])\n",
    "\n",
    "# Filter\n",
    "df_lt_churn = df_lt_churn[(df_lt_churn['event_date'] >= '2020-04-01') & (df_lt_churn['event_date'] <= '2021-04-30')]\n",
    "\n",
    "# Count drop off user for each months\n",
    "for _, row in tqdm(df_lt_churn.iterrows()):\n",
    "    dropOff[\"{}-{}\".format(calendar.month_name[row['event_date'].month], row['event_date'].year)] += 1\n",
    "\n",
    "# Old users\n",
    "dropOff"
   ]
  },
  {
   "cell_type": "code",
   "execution_count": 9,
   "metadata": {},
   "outputs": [
    {
     "data": {
      "text/html": [
       "<div>\n",
       "<style scoped>\n",
       "    .dataframe tbody tr th:only-of-type {\n",
       "        vertical-align: middle;\n",
       "    }\n",
       "\n",
       "    .dataframe tbody tr th {\n",
       "        vertical-align: top;\n",
       "    }\n",
       "\n",
       "    .dataframe thead th {\n",
       "        text-align: right;\n",
       "    }\n",
       "</style>\n",
       "<table border=\"1\" class=\"dataframe\">\n",
       "  <thead>\n",
       "    <tr style=\"text-align: right;\">\n",
       "      <th></th>\n",
       "      <th>_id</th>\n",
       "      <th>event_date</th>\n",
       "      <th>usertype</th>\n",
       "      <th>first_tran</th>\n",
       "      <th>last_tran</th>\n",
       "    </tr>\n",
       "  </thead>\n",
       "  <tbody>\n",
       "    <tr>\n",
       "      <th>311386</th>\n",
       "      <td>6Y4Jc+NdpKhtg/GB6li2zdilNro=</td>\n",
       "      <td>2020-04-01</td>\n",
       "      <td>B</td>\n",
       "      <td>False</td>\n",
       "      <td>True</td>\n",
       "    </tr>\n",
       "    <tr>\n",
       "      <th>311387</th>\n",
       "      <td>zQlkXb8r1yWw6PIMVe3zjF032V0=</td>\n",
       "      <td>2020-04-01</td>\n",
       "      <td>B</td>\n",
       "      <td>False</td>\n",
       "      <td>True</td>\n",
       "    </tr>\n",
       "    <tr>\n",
       "      <th>311388</th>\n",
       "      <td>52DpInrChwpjD+mkPiQITr+HiNk=</td>\n",
       "      <td>2020-04-01</td>\n",
       "      <td>B</td>\n",
       "      <td>False</td>\n",
       "      <td>True</td>\n",
       "    </tr>\n",
       "    <tr>\n",
       "      <th>311389</th>\n",
       "      <td>vliK6hTpjySTNuGaPrm/vtl7/Fk=</td>\n",
       "      <td>2020-04-01</td>\n",
       "      <td>B</td>\n",
       "      <td>False</td>\n",
       "      <td>True</td>\n",
       "    </tr>\n",
       "    <tr>\n",
       "      <th>311390</th>\n",
       "      <td>Q89Z07wROR9XJadMiO0D7sto/Fc=</td>\n",
       "      <td>2020-04-01</td>\n",
       "      <td>B</td>\n",
       "      <td>False</td>\n",
       "      <td>True</td>\n",
       "    </tr>\n",
       "    <tr>\n",
       "      <th>...</th>\n",
       "      <td>...</td>\n",
       "      <td>...</td>\n",
       "      <td>...</td>\n",
       "      <td>...</td>\n",
       "      <td>...</td>\n",
       "    </tr>\n",
       "    <tr>\n",
       "      <th>895423</th>\n",
       "      <td>zzyMFNFuAwqAN1FMkTmCD7gs1fU=</td>\n",
       "      <td>2021-02-26</td>\n",
       "      <td>A</td>\n",
       "      <td>False</td>\n",
       "      <td>False</td>\n",
       "    </tr>\n",
       "    <tr>\n",
       "      <th>895424</th>\n",
       "      <td>zzyMFNFuAwqAN1FMkTmCD7gs1fU=</td>\n",
       "      <td>2021-02-28</td>\n",
       "      <td>A</td>\n",
       "      <td>False</td>\n",
       "      <td>False</td>\n",
       "    </tr>\n",
       "    <tr>\n",
       "      <th>895425</th>\n",
       "      <td>zzyMFNFuAwqAN1FMkTmCD7gs1fU=</td>\n",
       "      <td>2021-03-01</td>\n",
       "      <td>A</td>\n",
       "      <td>False</td>\n",
       "      <td>False</td>\n",
       "    </tr>\n",
       "    <tr>\n",
       "      <th>895426</th>\n",
       "      <td>zzyMFNFuAwqAN1FMkTmCD7gs1fU=</td>\n",
       "      <td>2021-03-02</td>\n",
       "      <td>A</td>\n",
       "      <td>False</td>\n",
       "      <td>False</td>\n",
       "    </tr>\n",
       "    <tr>\n",
       "      <th>895427</th>\n",
       "      <td>zzyMFNFuAwqAN1FMkTmCD7gs1fU=</td>\n",
       "      <td>2021-03-03</td>\n",
       "      <td>A</td>\n",
       "      <td>False</td>\n",
       "      <td>False</td>\n",
       "    </tr>\n",
       "  </tbody>\n",
       "</table>\n",
       "<p>584042 rows × 5 columns</p>\n",
       "</div>"
      ],
      "text/plain": [
       "                                 _id event_date usertype  first_tran  \\\n",
       "311386  6Y4Jc+NdpKhtg/GB6li2zdilNro= 2020-04-01        B       False   \n",
       "311387  zQlkXb8r1yWw6PIMVe3zjF032V0= 2020-04-01        B       False   \n",
       "311388  52DpInrChwpjD+mkPiQITr+HiNk= 2020-04-01        B       False   \n",
       "311389  vliK6hTpjySTNuGaPrm/vtl7/Fk= 2020-04-01        B       False   \n",
       "311390  Q89Z07wROR9XJadMiO0D7sto/Fc= 2020-04-01        B       False   \n",
       "...                              ...        ...      ...         ...   \n",
       "895423  zzyMFNFuAwqAN1FMkTmCD7gs1fU= 2021-02-26        A       False   \n",
       "895424  zzyMFNFuAwqAN1FMkTmCD7gs1fU= 2021-02-28        A       False   \n",
       "895425  zzyMFNFuAwqAN1FMkTmCD7gs1fU= 2021-03-01        A       False   \n",
       "895426  zzyMFNFuAwqAN1FMkTmCD7gs1fU= 2021-03-02        A       False   \n",
       "895427  zzyMFNFuAwqAN1FMkTmCD7gs1fU= 2021-03-03        A       False   \n",
       "\n",
       "        last_tran  \n",
       "311386       True  \n",
       "311387       True  \n",
       "311388       True  \n",
       "311389       True  \n",
       "311390       True  \n",
       "...           ...  \n",
       "895423      False  \n",
       "895424      False  \n",
       "895425      False  \n",
       "895426      False  \n",
       "895427      False  \n",
       "\n",
       "[584042 rows x 5 columns]"
      ]
     },
     "execution_count": 9,
     "metadata": {},
     "output_type": "execute_result"
    }
   ],
   "source": [
    "# Add columns\n",
    "df_lt_store['last_tran'] = True\n",
    "\n",
    "# Filter\n",
    "df = df[(df['event_date'] >= '2020-04-01') & (df['event_date'] <= '2021-04-30')]\n",
    "\n",
    "# Merge\n",
    "df_merge = pd.merge(df_ft, df_lt_store, how=\"outer\", on=['_id', 'event_date', 'usertype'])\n",
    "df_merge = pd.merge(df_merge, df, how=\"outer\", on=['_id', 'event_date', 'usertype'])\n",
    "df_merge = df_merge.replace(np.nan, False)\n",
    "\n",
    "# Remove value with single transaction (true & true)\n",
    "df_merge = df_merge[(df_merge['first_tran'] != True) | (df_merge['last_tran'] != True)]\n",
    "df_merge = df_merge[(df_merge['first_tran'] != True)]\n",
    "df_merge"
   ]
  },
  {
   "cell_type": "code",
   "execution_count": 10,
   "metadata": {},
   "outputs": [
    {
     "data": {
      "text/html": [
       "<div>\n",
       "<style scoped>\n",
       "    .dataframe tbody tr th:only-of-type {\n",
       "        vertical-align: middle;\n",
       "    }\n",
       "\n",
       "    .dataframe tbody tr th {\n",
       "        vertical-align: top;\n",
       "    }\n",
       "\n",
       "    .dataframe thead th {\n",
       "        text-align: right;\n",
       "    }\n",
       "</style>\n",
       "<table border=\"1\" class=\"dataframe\">\n",
       "  <thead>\n",
       "    <tr style=\"text-align: right;\">\n",
       "      <th></th>\n",
       "      <th>_id</th>\n",
       "      <th>event_date</th>\n",
       "      <th>usertype</th>\n",
       "    </tr>\n",
       "  </thead>\n",
       "  <tbody>\n",
       "    <tr>\n",
       "      <th>833417</th>\n",
       "      <td>q1/0IoEgxi/BmKwRHp2xy6T1JQM=</td>\n",
       "      <td>2020-04-01</td>\n",
       "      <td>B</td>\n",
       "    </tr>\n",
       "    <tr>\n",
       "      <th>1053505</th>\n",
       "      <td>4h+NeisC36wf+wpTUmwH/PCvRd8=</td>\n",
       "      <td>2020-04-01</td>\n",
       "      <td>B</td>\n",
       "    </tr>\n",
       "    <tr>\n",
       "      <th>799307</th>\n",
       "      <td>zmGmxnhpigxNAEsqn1bKFKiy7VI=</td>\n",
       "      <td>2020-04-01</td>\n",
       "      <td>B</td>\n",
       "    </tr>\n",
       "    <tr>\n",
       "      <th>922534</th>\n",
       "      <td>/BFF0F9L6vZhUlsBW7mWgykToDU=</td>\n",
       "      <td>2020-04-01</td>\n",
       "      <td>B</td>\n",
       "    </tr>\n",
       "    <tr>\n",
       "      <th>51526</th>\n",
       "      <td>91T/AvqW+P88nPYrtpQlUwr2byg=</td>\n",
       "      <td>2020-04-01</td>\n",
       "      <td>A</td>\n",
       "    </tr>\n",
       "    <tr>\n",
       "      <th>...</th>\n",
       "      <td>...</td>\n",
       "      <td>...</td>\n",
       "      <td>...</td>\n",
       "    </tr>\n",
       "    <tr>\n",
       "      <th>581720</th>\n",
       "      <td>elddre5JSZM209JePiSTPRg5xCg=</td>\n",
       "      <td>2021-04-30</td>\n",
       "      <td>B</td>\n",
       "    </tr>\n",
       "    <tr>\n",
       "      <th>559437</th>\n",
       "      <td>tDPcSodx3YqWiLzT9WV5IzXRMls=</td>\n",
       "      <td>2021-04-30</td>\n",
       "      <td>B</td>\n",
       "    </tr>\n",
       "    <tr>\n",
       "      <th>533675</th>\n",
       "      <td>4SFC/ZCvrScWYtCzVaCAbImnTi8=</td>\n",
       "      <td>2021-04-30</td>\n",
       "      <td>B</td>\n",
       "    </tr>\n",
       "    <tr>\n",
       "      <th>432040</th>\n",
       "      <td>woZ+TJLXF46DFAn1AGF8OcuYxMU=</td>\n",
       "      <td>2021-04-30</td>\n",
       "      <td>B</td>\n",
       "    </tr>\n",
       "    <tr>\n",
       "      <th>920931</th>\n",
       "      <td>pJbNbCjPdxKfwNJVgr3vRBy7vxY=</td>\n",
       "      <td>2021-04-30</td>\n",
       "      <td>B</td>\n",
       "    </tr>\n",
       "  </tbody>\n",
       "</table>\n",
       "<p>326338 rows × 3 columns</p>\n",
       "</div>"
      ],
      "text/plain": [
       "                                  _id event_date usertype\n",
       "833417   q1/0IoEgxi/BmKwRHp2xy6T1JQM= 2020-04-01        B\n",
       "1053505  4h+NeisC36wf+wpTUmwH/PCvRd8= 2020-04-01        B\n",
       "799307   zmGmxnhpigxNAEsqn1bKFKiy7VI= 2020-04-01        B\n",
       "922534   /BFF0F9L6vZhUlsBW7mWgykToDU= 2020-04-01        B\n",
       "51526    91T/AvqW+P88nPYrtpQlUwr2byg= 2020-04-01        A\n",
       "...                               ...        ...      ...\n",
       "581720   elddre5JSZM209JePiSTPRg5xCg= 2021-04-30        B\n",
       "559437   tDPcSodx3YqWiLzT9WV5IzXRMls= 2021-04-30        B\n",
       "533675   4SFC/ZCvrScWYtCzVaCAbImnTi8= 2021-04-30        B\n",
       "432040   woZ+TJLXF46DFAn1AGF8OcuYxMU= 2021-04-30        B\n",
       "920931   pJbNbCjPdxKfwNJVgr3vRBy7vxY= 2021-04-30        B\n",
       "\n",
       "[326338 rows x 3 columns]"
      ]
     },
     "execution_count": 10,
     "metadata": {},
     "output_type": "execute_result"
    }
   ],
   "source": [
    "# Sort dataframe and drop duplicate\n",
    "df_ft_churn = df.drop_duplicates(subset=['_id'], keep='first')\n",
    "df_ft_churn = df_ft_churn.sort_values(by='event_date')\n",
    "\n",
    "# Filter\n",
    "df_ft_churn = df_ft_churn[df_ft_churn['event_date'] <= '2021-04-30']\n",
    "df_ft_churn.sort_values(by='event_date')"
   ]
  },
  {
   "cell_type": "code",
   "execution_count": 11,
   "metadata": {},
   "outputs": [],
   "source": [
    "# Convert to numpy array\n",
    "user_ids = list(df_merge['_id'].unique())\n",
    "np_merge = df_merge.to_numpy()\n",
    "np_ft_churn = df_ft_churn.to_numpy()"
   ]
  },
  {
   "cell_type": "code",
   "execution_count": 12,
   "metadata": {},
   "outputs": [
    {
     "name": "stderr",
     "output_type": "stream",
     "text": [
      "100%|██████████| 173266/173266 [4:03:46<00:00, 11.85it/s]  \n"
     ]
    },
    {
     "data": {
      "text/plain": [
       "{'April-2020': 8946,\n",
       " 'May-2020': 10427,\n",
       " 'June-2020': 10654,\n",
       " 'July-2020': 14152,\n",
       " 'August-2020': 14820,\n",
       " 'September-2020': 11405,\n",
       " 'October-2020': 12123,\n",
       " 'November-2020': 10177,\n",
       " 'December-2020': 10539,\n",
       " 'January-2021': 12932,\n",
       " 'February-2021': 13036,\n",
       " 'March-2021': 18686,\n",
       " 'April-2021': 26333}"
      ]
     },
     "execution_count": 12,
     "metadata": {},
     "output_type": "execute_result"
    }
   ],
   "source": [
    "for uid in tqdm(user_ids):\n",
    "    i = np.where(np_merge == uid)[0]\n",
    "    v = np.where(np_ft_churn == uid)[0]\n",
    "    np_temp = np_merge[i]\n",
    "    np_temp_ft = np_ft_churn[v]\n",
    "\n",
    "    # Check if single\n",
    "    if len(np_temp) <= 1:\n",
    "        continue\n",
    "\n",
    "    \n",
    "    for r in np_temp:\n",
    "        if r[1] < churn_period:\n",
    "            continue\n",
    "        \n",
    "        else:\n",
    "            dropOff[\"{}-{}\".format(calendar.month_name[churn_period.month], churn_period.year)] += 1\n",
    "            returnUser[\"{}-{}\".format(calendar.month_name[r[1].month], r[1].year)] += 1\n",
    "\n",
    "            if r[4] == False:\n",
    "                churn_period = r[1] + datetime.timedelta(days=churn[r[2]])\n",
    "\n",
    "returnUser = {k:v for k,v in returnUser.items() if v != 0}\n",
    "returnUser"
   ]
  },
  {
   "cell_type": "code",
   "execution_count": 17,
   "metadata": {},
   "outputs": [
    {
     "data": {
      "text/plain": [
       "{'April-2020': 8946,\n",
       " 'May-2020': 10427,\n",
       " 'June-2020': 10654,\n",
       " 'July-2020': 14152,\n",
       " 'August-2020': 14820,\n",
       " 'September-2020': 11405,\n",
       " 'October-2020': 12123,\n",
       " 'November-2020': 10177,\n",
       " 'December-2020': 10539,\n",
       " 'January-2021': 12932,\n",
       " 'February-2021': 13036,\n",
       " 'March-2021': 18686,\n",
       " 'April-2021': 26333}"
      ]
     },
     "execution_count": 17,
     "metadata": {},
     "output_type": "execute_result"
    }
   ],
   "source": [
    "returnUser = {k:v for k,v in returnUser.items() if v != 0}\n",
    "returnUser"
   ]
  },
  {
   "cell_type": "code",
   "execution_count": 13,
   "metadata": {},
   "outputs": [],
   "source": [
    "# # Run multiprocessing\n",
    "# with multiprocessing.Pool(multiprocessing.cpu_count()) as pool:\n",
    "#     result = pool.starmap(h.find_return_user, zip(user_ids, repeat(np_merge), repeat(np_ft_churn), repeat(dropOff), repeat(returnUser)))    \n",
    "\n",
    "# # Print result\n",
    "# returnUser = {k:v for k,v in result[1].items() if v != 0}\n",
    "# returnUser"
   ]
  },
  {
   "cell_type": "code",
   "execution_count": 14,
   "metadata": {},
   "outputs": [
    {
     "data": {
      "text/plain": [
       "{'April-2020': 15679,\n",
       " 'May-2020': 21396,\n",
       " 'June-2020': 23823,\n",
       " 'July-2020': 29144,\n",
       " 'August-2020': 26924,\n",
       " 'September-2020': 21450,\n",
       " 'October-2020': 22533,\n",
       " 'November-2020': 19245,\n",
       " 'December-2020': 19225,\n",
       " 'January-2021': 25236,\n",
       " 'February-2021': 24207,\n",
       " 'March-2021': 28083,\n",
       " 'April-2021': 29003}"
      ]
     },
     "execution_count": 14,
     "metadata": {},
     "output_type": "execute_result"
    }
   ],
   "source": [
    "# Print result\n",
    "dropOff = {k:v for k,v in dropOff.items() if v != 0}\n",
    "dropOff"
   ]
  },
  {
   "cell_type": "code",
   "execution_count": 15,
   "metadata": {},
   "outputs": [],
   "source": [
    "# test = {'_id': ['abc', 'abc', 'abc', 'abc'], \n",
    "#         'event_date': ['2020-04-01', '2020-10-20', '2020-10-21', '2021-04-29'], \n",
    "#         'usertype': ['C', 'C', 'C', 'C'], \n",
    "#         'first_tran': [True, False, False, False], \n",
    "#         'last_tran': [False, False, False, True]\n",
    "#     }\n",
    "\n",
    "# # Churn periods\n",
    "# churn = {'A': 360, 'B': 360, 'C': 120, 'D': 260}\n",
    "\n",
    "# df_test = pd.DataFrame(test)\n",
    "# df_test['event_date'] = pd.to_datetime(df_test['event_date'])\n",
    "\n",
    "# churn_period = datetime.time()\n",
    "# for idx, row in df_test.iterrows():\n",
    "#     if row['first_tran'] == True:\n",
    "#         churn_period = row['event_date'] + datetime.timedelta(days=churn[row['usertype']])\n",
    "#         continue\n",
    "    \n",
    "#     if row['event_date'] < churn_period:\n",
    "#         continue\n",
    "#     else:\n",
    "#         dropOff[\"{}-{}\".format(calendar.month_name[churn_period.month], churn_period.year)] += 1\n",
    "#         returnUser[\"{}-{}\".format(calendar.month_name[row['event_date'].month], row['event_date'].year)] += 1\n",
    "#         churn_period = row['event_date'] + datetime.timedelta(days=churn[row['usertype']])\n",
    "\n",
    "# returnUser = {k:v for k,v in returnUser.items() if v != 0}\n",
    "# dropOff = {k:v for k,v in dropOff.items() if v != 0}\n",
    "\n",
    "# print(dropOff, returnUser)"
   ]
  },
  {
   "cell_type": "code",
   "execution_count": 16,
   "metadata": {},
   "outputs": [],
   "source": [
    "# # Grouping\n",
    "# df_a = df_sep.loc[df['usertype'] == 'A']\n",
    "# df_b = df_sep.loc[df['usertype'] == 'B']\n",
    "# df_c = df_sep.loc[df['usertype'] == 'C']\n",
    "# df_d = df_sep.loc[df['usertype'] == 'D']\n",
    "\n",
    "# # Data Summary\n",
    "# display = pd.DataFrame({'usertype': ['A', 'B', 'C', 'D'], 'unique': [len(df_a['_id'].unique()), len(df_b['_id'].unique()), len(df_c['_id'].unique()), len(df_d['_id'].unique())], 'count': [len(df_a), len(df_b), len(df_c), len(df_d)]})\n",
    "# display"
   ]
  }
 ],
 "metadata": {
  "interpreter": {
   "hash": "137b02ee4c4bcde3ddcc913b3677021613a3febb7e7f3d8deeba44e3db90bd6a"
  },
  "kernelspec": {
   "display_name": "Python 3.9.4 ('rentspree': venv)",
   "language": "python",
   "name": "python3"
  },
  "language_info": {
   "codemirror_mode": {
    "name": "ipython",
    "version": 3
   },
   "file_extension": ".py",
   "mimetype": "text/x-python",
   "name": "python",
   "nbconvert_exporter": "python",
   "pygments_lexer": "ipython3",
   "version": "3.9.4"
  },
  "orig_nbformat": 4
 },
 "nbformat": 4,
 "nbformat_minor": 2
}
